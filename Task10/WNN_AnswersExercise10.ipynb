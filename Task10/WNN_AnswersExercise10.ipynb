{
  "nbformat": 4,
  "nbformat_minor": 0,
  "metadata": {
    "colab": {
      "provenance": []
    },
    "kernelspec": {
      "name": "python3",
      "display_name": "Python 3"
    },
    "language_info": {
      "name": "python"
    }
  },
  "cells": [
    {
      "cell_type": "markdown",
      "source": [
        "Working with Neural Network Models\n",
        "\n",
        "© Hans Nieminen, Satakunta University of Applied Sciences"
      ],
      "metadata": {
        "id": "zdQfb-z3zzBX"
      }
    },
    {
      "cell_type": "markdown",
      "source": [
        "# Exercise 10.1"
      ],
      "metadata": {
        "id": "FHuVPev3zz3E"
      }
    },
    {
      "cell_type": "code",
      "execution_count": null,
      "metadata": {
        "id": "GtftYJXXzynJ"
      },
      "outputs": [],
      "source": [
        "import numpy as np"
      ]
    },
    {
      "cell_type": "code",
      "source": [
        "def convolution(matrix, kernel, stride=1, padding=0):\n",
        "    # Add padding to the matrix\n",
        "    if padding > 0:\n",
        "        matrix = np.pad(matrix,\n",
        "                        pad_width=padding,\n",
        "                        mode='constant',\n",
        "                        constant_values=0)\n",
        "    n = matrix.shape[0]\n",
        "    f = kernel.shape[0]\n",
        "    conv_matrix = []\n",
        "    # stepping from top to bottom\n",
        "    for i in range(0,n-f+1,stride):\n",
        "        # stepping from left to right\n",
        "        row = []\n",
        "        for j in range(0,n-f+1,stride):\n",
        "            sub_matrix = matrix[i:i+f,j:j+f]\n",
        "            row.append(sub_matrix.flatten().dot(kernel.flatten()))\n",
        "        conv_matrix.append(row)\n",
        "    conv_matrix = np.array(conv_matrix)\n",
        "    return conv_matrix"
      ],
      "metadata": {
        "id": "S7lJuItA0EFX"
      },
      "execution_count": null,
      "outputs": []
    },
    {
      "cell_type": "code",
      "source": [
        "m = np.array([[0.6,0.2,0.2,-0.2,1.1,0.5],\n",
        "              [0.2,0.4,0.0,0.6,-0.1,0.8],\n",
        "              [0.3,0.8,0.2,0.3,1.2,1.5],\n",
        "              [-0.6,0.8,0.8,-0.7,0.1,0.2] ,\n",
        "              [0.1,0.1,0.1,0.8,0.9,1.2],\n",
        "              [0.2,-0.5,0.1,-0.3,0.5,0.2]])\n",
        "m"
      ],
      "metadata": {
        "colab": {
          "base_uri": "https://localhost:8080/"
        },
        "id": "DGzD3J-u0G89",
        "outputId": "ce374c4d-e322-4a2c-a79c-ee14d8c4d8ef"
      },
      "execution_count": null,
      "outputs": [
        {
          "output_type": "execute_result",
          "data": {
            "text/plain": [
              "array([[ 0.6,  0.2,  0.2, -0.2,  1.1,  0.5],\n",
              "       [ 0.2,  0.4,  0. ,  0.6, -0.1,  0.8],\n",
              "       [ 0.3,  0.8,  0.2,  0.3,  1.2,  1.5],\n",
              "       [-0.6,  0.8,  0.8, -0.7,  0.1,  0.2],\n",
              "       [ 0.1,  0.1,  0.1,  0.8,  0.9,  1.2],\n",
              "       [ 0.2, -0.5,  0.1, -0.3,  0.5,  0.2]])"
            ]
          },
          "metadata": {},
          "execution_count": 3
        }
      ]
    },
    {
      "cell_type": "code",
      "source": [
        "kernel1 = np.array([[1.0, 0.0, 0.5],\n",
        "                    [0.5, 1.0, 0.5],\n",
        "                    [0.1, 0.8, 0.2]])\n",
        "kernel2 = np.array([[0.1, 0.5],\n",
        "                    [0.5, 1.0]])"
      ],
      "metadata": {
        "id": "TehoTeAA0KLj"
      },
      "execution_count": null,
      "outputs": []
    },
    {
      "cell_type": "code",
      "source": [
        "feature_map1 = convolution(m, kernel1, stride=2, padding=2)\n",
        "feature_map1"
      ],
      "metadata": {
        "colab": {
          "base_uri": "https://localhost:8080/"
        },
        "id": "xjbQhKaA0MSJ",
        "outputId": "f59c501c-c94b-459c-e849-4668b4b1d536"
      },
      "execution_count": null,
      "outputs": [
        {
          "output_type": "execute_result",
          "data": {
            "text/plain": [
              "array([[ 0.12,  0.26,  0.08,  0.51],\n",
              "       [ 0.46,  1.91,  1.8 ,  3.17],\n",
              "       [-0.13,  1.41,  1.38,  2.5 ],\n",
              "       [ 0.15, -0.2 ,  0.55,  1.35]])"
            ]
          },
          "metadata": {},
          "execution_count": 5
        }
      ]
    },
    {
      "cell_type": "code",
      "source": [
        "feature_map2 = convolution(feature_map1, kernel2, stride=1, padding=1)\n",
        "feature_map2"
      ],
      "metadata": {
        "colab": {
          "base_uri": "https://localhost:8080/"
        },
        "id": "neCRaxqo0Onu",
        "outputId": "8413fd10-39fd-4089-b194-a308c91c040c"
      },
      "execution_count": null,
      "outputs": [
        {
          "output_type": "execute_result",
          "data": {
            "text/plain": [
              "array([[ 0.12 ,  0.32 ,  0.21 ,  0.55 ,  0.255],\n",
              "       [ 0.52 ,  2.282,  2.821,  4.333,  1.636],\n",
              "       [ 0.1  ,  2.346,  3.176,  4.955,  1.567],\n",
              "       [ 0.085,  0.567,  1.281,  3.013,  0.925],\n",
              "       [ 0.075, -0.085,  0.255,  0.73 ,  0.135]])"
            ]
          },
          "metadata": {},
          "execution_count": 6
        }
      ]
    },
    {
      "cell_type": "code",
      "source": [
        "print(f'Mean is {feature_map2.mean().round(2)}')"
      ],
      "metadata": {
        "colab": {
          "base_uri": "https://localhost:8080/"
        },
        "id": "JqgZan9l0So3",
        "outputId": "d6750cb0-2c1a-4022-b208-f9863aee5f6b"
      },
      "execution_count": null,
      "outputs": [
        {
          "output_type": "stream",
          "name": "stdout",
          "text": [
            "Mean is 1.29\n"
          ]
        }
      ]
    },
    {
      "cell_type": "markdown",
      "source": [
        "# Exercise 10.2"
      ],
      "metadata": {
        "id": "AkQY7KA932DJ"
      }
    },
    {
      "cell_type": "code",
      "source": [
        "def count_result_n(n, p, f, s):\n",
        "    return ((n+2*p-f)/s)+1"
      ],
      "metadata": {
        "id": "JPwcg0Ns337Z"
      },
      "execution_count": null,
      "outputs": []
    },
    {
      "cell_type": "code",
      "source": [
        "n = 400  # input size: n X n\n",
        "f = 10  # filter size: f X f\n",
        "p = 0   # padding\n",
        "s = 3   # stride"
      ],
      "metadata": {
        "id": "-G6nbhIb36jr"
      },
      "execution_count": null,
      "outputs": []
    },
    {
      "cell_type": "code",
      "source": [
        "n = count_result_n(n, p, f, s)\n",
        "n"
      ],
      "metadata": {
        "colab": {
          "base_uri": "https://localhost:8080/"
        },
        "id": "Ks4R_AgP380c",
        "outputId": "0356e681-39fc-4cb8-cf79-2964a11715d4"
      },
      "execution_count": null,
      "outputs": [
        {
          "output_type": "execute_result",
          "data": {
            "text/plain": [
              "131.0"
            ]
          },
          "metadata": {},
          "execution_count": 10
        }
      ]
    },
    {
      "cell_type": "code",
      "source": [
        "f = 5  # filter size: f X f\n",
        "p = 1   # padding\n",
        "s = 2   # stride"
      ],
      "metadata": {
        "id": "gG1BXQz23_Pv"
      },
      "execution_count": null,
      "outputs": []
    },
    {
      "cell_type": "code",
      "source": [
        "result_n = count_result_n(n, p, f, s)\n",
        "result_n"
      ],
      "metadata": {
        "id": "1dMLZt4s4C-p",
        "outputId": "7603972a-d8cd-4e21-96ee-eb6de266a349",
        "colab": {
          "base_uri": "https://localhost:8080/"
        }
      },
      "execution_count": null,
      "outputs": [
        {
          "output_type": "execute_result",
          "data": {
            "text/plain": [
              "65.0"
            ]
          },
          "metadata": {},
          "execution_count": 12
        }
      ]
    },
    {
      "cell_type": "code",
      "source": [
        "dropout = 0.2\n",
        "output_size = (result_n**2)*(1-dropout)\n",
        "output_size"
      ],
      "metadata": {
        "id": "IlxkEBGB4Fbp",
        "outputId": "325c4e58-b71d-4d47-a3ed-a795f62d9075",
        "colab": {
          "base_uri": "https://localhost:8080/"
        }
      },
      "execution_count": null,
      "outputs": [
        {
          "output_type": "execute_result",
          "data": {
            "text/plain": [
              "3380.0"
            ]
          },
          "metadata": {},
          "execution_count": 13
        }
      ]
    }
  ]
}