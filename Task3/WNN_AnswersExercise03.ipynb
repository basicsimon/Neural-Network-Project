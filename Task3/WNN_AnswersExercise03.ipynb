{
  "nbformat": 4,
  "nbformat_minor": 0,
  "metadata": {
    "colab": {
      "provenance": []
    },
    "kernelspec": {
      "name": "python3",
      "display_name": "Python 3"
    },
    "language_info": {
      "name": "python"
    }
  },
  "cells": [
    {
      "cell_type": "markdown",
      "source": [
        "Working with Neural Network Models\n",
        "\n",
        "&copy; Hans Nieminen, Satakunta University of Applied Sciences"
      ],
      "metadata": {
        "id": "tiQ7upyak1XX"
      }
    },
    {
      "cell_type": "markdown",
      "source": [
        "# Exercise 3.1"
      ],
      "metadata": {
        "id": "-5y9-VYDk5dL"
      }
    },
    {
      "cell_type": "code",
      "execution_count": null,
      "metadata": {
        "id": "1Fby_gPCktIw"
      },
      "outputs": [],
      "source": [
        "neurons = 10**11\n",
        "synapses_per_neuron = 10**3\n",
        "bits_per_synapse = 4"
      ]
    },
    {
      "cell_type": "code",
      "source": [
        "bits = neurons * synapses_per_neuron * bits_per_synapse"
      ],
      "metadata": {
        "id": "Pp3I_H_elD9e"
      },
      "execution_count": null,
      "outputs": []
    },
    {
      "cell_type": "code",
      "source": [
        "Bytes = bits/8"
      ],
      "metadata": {
        "id": "Iset25jvlHb2"
      },
      "execution_count": null,
      "outputs": []
    },
    {
      "cell_type": "code",
      "source": [
        "kiloBytes = Bytes/1024\n",
        "kiloBytes"
      ],
      "metadata": {
        "colab": {
          "base_uri": "https://localhost:8080/"
        },
        "id": "5gNmetgllKN9",
        "outputId": "d9b99312-440c-403f-b42e-42e0ad697c98"
      },
      "execution_count": null,
      "outputs": [
        {
          "output_type": "execute_result",
          "data": {
            "text/plain": [
              "48828125000.0"
            ]
          },
          "metadata": {},
          "execution_count": 4
        }
      ]
    },
    {
      "cell_type": "code",
      "source": [
        "megaBytes = kiloBytes/1024\n",
        "megaBytes"
      ],
      "metadata": {
        "colab": {
          "base_uri": "https://localhost:8080/"
        },
        "id": "BOaUUxbMlMGe",
        "outputId": "7cf5c2c1-b1b1-4ce6-f269-e2152aa0b66e"
      },
      "execution_count": null,
      "outputs": [
        {
          "output_type": "execute_result",
          "data": {
            "text/plain": [
              "47683715.8203125"
            ]
          },
          "metadata": {},
          "execution_count": 5
        }
      ]
    },
    {
      "cell_type": "code",
      "source": [
        "gigaBytes = megaBytes/1024\n",
        "gigaBytes"
      ],
      "metadata": {
        "colab": {
          "base_uri": "https://localhost:8080/"
        },
        "id": "QgmCQY-vlOwt",
        "outputId": "e9e214f1-6942-4cb8-8ce3-7e63e8a959a1"
      },
      "execution_count": null,
      "outputs": [
        {
          "output_type": "execute_result",
          "data": {
            "text/plain": [
              "46566.128730773926"
            ]
          },
          "metadata": {},
          "execution_count": 6
        }
      ]
    },
    {
      "cell_type": "code",
      "source": [
        "teraBytes = gigaBytes/1024\n",
        "teraBytes"
      ],
      "metadata": {
        "colab": {
          "base_uri": "https://localhost:8080/"
        },
        "id": "9z9rAFualSH6",
        "outputId": "683b751a-1560-46eb-ac48-8de0bddd6a78"
      },
      "execution_count": null,
      "outputs": [
        {
          "output_type": "execute_result",
          "data": {
            "text/plain": [
              "45.47473508864641"
            ]
          },
          "metadata": {},
          "execution_count": 7
        }
      ]
    },
    {
      "cell_type": "markdown",
      "source": [
        "# Exercise 3.2"
      ],
      "metadata": {
        "id": "yeZUNh4JlaQI"
      }
    },
    {
      "cell_type": "code",
      "source": [
        "import numpy as np"
      ],
      "metadata": {
        "id": "EA0n9tE_lcCw"
      },
      "execution_count": null,
      "outputs": []
    },
    {
      "cell_type": "code",
      "source": [
        "def perceptron(x, w, b):\n",
        "    v = np.dot(w, x) + b\n",
        "    if v > 0:\n",
        "      return 1\n",
        "    else:\n",
        "      return 0"
      ],
      "metadata": {
        "id": "s9CksP1ileZo"
      },
      "execution_count": null,
      "outputs": []
    },
    {
      "cell_type": "code",
      "source": [
        "inputs = np.array([[0.1, 0.2, 0.3],\n",
        "                   [-0.3, 0.3, -0.2],\n",
        "                   [0.1, 0.0, 0.2],\n",
        "                   [0.4, 0.3, -0.4],\n",
        "                   [0.2, 0.2, -0.1]])"
      ],
      "metadata": {
        "id": "gllc2Yxclgup"
      },
      "execution_count": null,
      "outputs": []
    },
    {
      "cell_type": "code",
      "source": [
        "weights = np.array([[0.5, -0.1, 0.3],\n",
        "                    [0.1, 0.1, -0.2],\n",
        "                    [-0.1, 0.3, -0.2],\n",
        "                    [-0.2, 0.3, 0.2],\n",
        "                    [0.1, -0.1, -0.1]])"
      ],
      "metadata": {
        "id": "iNkFQRc1ljrJ"
      },
      "execution_count": null,
      "outputs": []
    },
    {
      "cell_type": "code",
      "source": [
        "biases = np.array([[-0.2],\n",
        "                   [-0.4],\n",
        "                   [0.3],\n",
        "                   [0.1],\n",
        "                   [-0.05]])"
      ],
      "metadata": {
        "id": "bzmvBooJll_5"
      },
      "execution_count": null,
      "outputs": []
    },
    {
      "cell_type": "code",
      "source": [
        "s = 0\n",
        "for i in range(len(inputs)):\n",
        "  s += perceptron(inputs[i], weights[i], biases[i])\n",
        "print(s)"
      ],
      "metadata": {
        "colab": {
          "base_uri": "https://localhost:8080/"
        },
        "id": "Cu5y1TSZlopx",
        "outputId": "3281501a-818d-4e6e-ec42-0311d61aa5b2"
      },
      "execution_count": null,
      "outputs": [
        {
          "output_type": "stream",
          "name": "stdout",
          "text": [
            "2\n"
          ]
        }
      ]
    },
    {
      "cell_type": "markdown",
      "source": [
        "# Exercise 3.3"
      ],
      "metadata": {
        "id": "o8pY2PgjoCp8"
      }
    },
    {
      "cell_type": "code",
      "source": [
        "import numpy as np\n",
        "from math import pi"
      ],
      "metadata": {
        "id": "ZSs8dTc_oEbb"
      },
      "execution_count": null,
      "outputs": []
    },
    {
      "cell_type": "code",
      "source": [
        "def GELU(x):\n",
        "  return 0.5*x*(1+np.tanh(np.sqrt(2/pi)*(x+0.044715*x**3)))"
      ],
      "metadata": {
        "id": "Hk_2ToCQoHTW"
      },
      "execution_count": null,
      "outputs": []
    },
    {
      "cell_type": "code",
      "source": [
        "inputs = np.array([0.2, -0.1, 1.2, 0.7, -0.3, 0.1, -0.2])"
      ],
      "metadata": {
        "id": "nzH0uShpoJoC"
      },
      "execution_count": null,
      "outputs": []
    },
    {
      "cell_type": "code",
      "source": [
        "outputs = GELU(inputs)"
      ],
      "metadata": {
        "id": "I8pTkpMCoL4D"
      },
      "execution_count": null,
      "outputs": []
    },
    {
      "cell_type": "code",
      "source": [
        "outputs"
      ],
      "metadata": {
        "colab": {
          "base_uri": "https://localhost:8080/"
        },
        "id": "SRFwVuMvoOeA",
        "outputId": "22b362f0-63a6-4a05-bbee-33d226a069bd"
      },
      "execution_count": null,
      "outputs": [
        {
          "output_type": "execute_result",
          "data": {
            "text/plain": [
              "array([ 0.11585143, -0.04601725,  1.06170277,  0.53057013, -0.11462908,\n",
              "        0.05398275, -0.08414857])"
            ]
          },
          "metadata": {},
          "execution_count": 18
        }
      ]
    },
    {
      "cell_type": "code",
      "source": [
        "print(outputs.mean().round(3))"
      ],
      "metadata": {
        "colab": {
          "base_uri": "https://localhost:8080/"
        },
        "id": "InrZZCGwoSiX",
        "outputId": "93ad036b-c254-4f57-e91f-d5d073d43bb5"
      },
      "execution_count": null,
      "outputs": [
        {
          "output_type": "stream",
          "name": "stdout",
          "text": [
            "0.217\n"
          ]
        }
      ]
    },
    {
      "cell_type": "markdown",
      "source": [
        "GELU is implemented also is PyTorch."
      ],
      "metadata": {
        "id": "EUigfmQ5pt0X"
      }
    },
    {
      "cell_type": "code",
      "source": [
        "import torch\n",
        "from torch.nn.functional import gelu"
      ],
      "metadata": {
        "id": "0uQsqwEKp0vm"
      },
      "execution_count": null,
      "outputs": []
    },
    {
      "cell_type": "code",
      "source": [
        "inputs2 = torch.tensor([0.2, -0.1, 1.2, 0.7, -0.3, 0.1, -0.2])\n",
        "outputs2 = gelu(inputs2)\n",
        "outputs2"
      ],
      "metadata": {
        "colab": {
          "base_uri": "https://localhost:8080/"
        },
        "id": "huBiXz83p3dv",
        "outputId": "4e89fc90-1aaf-482b-b801-fc11bb9515e1"
      },
      "execution_count": null,
      "outputs": [
        {
          "output_type": "execute_result",
          "data": {
            "text/plain": [
              "tensor([ 0.1159, -0.0460,  1.0619,  0.5306, -0.1146,  0.0540, -0.0841])"
            ]
          },
          "metadata": {},
          "execution_count": 21
        }
      ]
    },
    {
      "cell_type": "markdown",
      "source": [
        "Visualization of GELU vs. ReLU."
      ],
      "metadata": {
        "id": "Nis9tYkUqA8E"
      }
    },
    {
      "cell_type": "code",
      "source": [
        "import matplotlib.pyplot as plt"
      ],
      "metadata": {
        "id": "puU-92v9qAaR"
      },
      "execution_count": null,
      "outputs": []
    },
    {
      "cell_type": "code",
      "source": [
        "x = np.linspace(start=-4,stop=3, num=50)\n",
        "x"
      ],
      "metadata": {
        "colab": {
          "base_uri": "https://localhost:8080/"
        },
        "id": "VsQR4uuzqKdG",
        "outputId": "8e0d13c2-3af7-4a50-8631-691994a59f38"
      },
      "execution_count": null,
      "outputs": [
        {
          "output_type": "execute_result",
          "data": {
            "text/plain": [
              "array([-4.        , -3.85714286, -3.71428571, -3.57142857, -3.42857143,\n",
              "       -3.28571429, -3.14285714, -3.        , -2.85714286, -2.71428571,\n",
              "       -2.57142857, -2.42857143, -2.28571429, -2.14285714, -2.        ,\n",
              "       -1.85714286, -1.71428571, -1.57142857, -1.42857143, -1.28571429,\n",
              "       -1.14285714, -1.        , -0.85714286, -0.71428571, -0.57142857,\n",
              "       -0.42857143, -0.28571429, -0.14285714,  0.        ,  0.14285714,\n",
              "        0.28571429,  0.42857143,  0.57142857,  0.71428571,  0.85714286,\n",
              "        1.        ,  1.14285714,  1.28571429,  1.42857143,  1.57142857,\n",
              "        1.71428571,  1.85714286,  2.        ,  2.14285714,  2.28571429,\n",
              "        2.42857143,  2.57142857,  2.71428571,  2.85714286,  3.        ])"
            ]
          },
          "metadata": {},
          "execution_count": 23
        }
      ]
    },
    {
      "cell_type": "code",
      "source": [
        "def ReLU(value):\n",
        "    return (value > 0) * value"
      ],
      "metadata": {
        "id": "IyMUPMqpqO8W"
      },
      "execution_count": null,
      "outputs": []
    },
    {
      "cell_type": "code",
      "source": [
        "plt.plot(x, GELU(x), label='GELU')\n",
        "plt.plot(x, ReLU(x), label='ReLU')\n",
        "plt.legend()"
      ],
      "metadata": {
        "colab": {
          "base_uri": "https://localhost:8080/",
          "height": 447
        },
        "id": "5kQ6Ae33qRP9",
        "outputId": "fdf97233-e8de-4099-92b2-0ff399a8d1af"
      },
      "execution_count": null,
      "outputs": [
        {
          "output_type": "execute_result",
          "data": {
            "text/plain": [
              "<matplotlib.legend.Legend at 0x7d1c8a4cf9d0>"
            ]
          },
          "metadata": {},
          "execution_count": 25
        },
        {
          "output_type": "display_data",
          "data": {
            "text/plain": [
              "<Figure size 640x480 with 1 Axes>"
            ],
            "image/png": "[encoded data removed]"
          },
          "metadata": {}
        }
      ]
    },
    {
      "cell_type": "markdown",
      "source": [
        "# Exercise 3.4"
      ],
      "metadata": {
        "id": "nvDeLm0foVsx"
      }
    },
    {
      "cell_type": "markdown",
      "source": [
        "Number of parameters is the number of connections, i.e. #$V_1$ + #$V_2$ + #$V_3 = 16 + 10 + 3 = 29$."
      ],
      "metadata": {
        "id": "iqWEX6K4tuDE"
      }
    }
  ]
}