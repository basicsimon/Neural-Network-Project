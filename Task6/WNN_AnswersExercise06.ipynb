{
  "nbformat": 4,
  "nbformat_minor": 0,
  "metadata": {
    "colab": {
      "provenance": []
    },
    "kernelspec": {
      "name": "python3",
      "display_name": "Python 3"
    },
    "language_info": {
      "name": "python"
    }
  },
  "cells": [
    {
      "cell_type": "markdown",
      "source": [
        "Working with Neural Network Models\n",
        "\n",
        "© Hans Nieminen, Satakunta University of Applied Sciences"
      ],
      "metadata": {
        "id": "-9uBrUju_L0T"
      }
    },
    {
      "cell_type": "markdown",
      "source": [
        "# Exercise 6.1"
      ],
      "metadata": {
        "id": "MHre2d2h_M8X"
      }
    },
    {
      "cell_type": "markdown",
      "source": [
        "The function:\n",
        "\n",
        "$f(x,y,z) = (\\frac{1}{3}x - 3y^3+2z)z^2=\\frac{1}{3}xz^2-3y^3z^2+2z^3$\n",
        "\n",
        "Partial derivatives are the following:\n",
        "\n",
        "$$\n",
        "\\frac{\\partial f}{\\partial x}=\\frac{1}{3}z^2\n",
        "$$$$\n",
        "\\frac{\\partial f}{\\partial y}=-3z^2\\times 3y^2=-9y^2z^2\n",
        "$$$$\n",
        "\\frac{\\partial f}{\\partial z}=\\frac{1}{3}x\\times 2z - 3y^3\\times 2z  + 2\\times 3z^2= \\frac{2}{3}xz-6y^3z+6z^2\n",
        "$$\n",
        "\n",
        "So the gradient is the following\n",
        "\n",
        "$$\n",
        "\\nabla f(x,y,z)=(\\frac{1}{3}z^2,-9y^2z^2,\\frac{2}{3}xz-6y^3z+6z^2)\n",
        "$$\n"
      ],
      "metadata": {
        "id": "mNmkx207_PBm"
      }
    },
    {
      "cell_type": "markdown",
      "source": [
        "# Exercise 6.2"
      ],
      "metadata": {
        "id": "MRfZftzt_gCN"
      }
    },
    {
      "cell_type": "code",
      "execution_count": null,
      "metadata": {
        "id": "vigevcS5_Hw9"
      },
      "outputs": [],
      "source": [
        "import numpy as np"
      ]
    },
    {
      "cell_type": "code",
      "source": [
        "def f(x,y,z):\n",
        "  return 2*x**2-0.5*x+0.3*y**3-z**3+2*z+2.5"
      ],
      "metadata": {
        "id": "Yr23kYziAgMj"
      },
      "execution_count": null,
      "outputs": []
    },
    {
      "cell_type": "code",
      "source": [
        "def grad_f(x,y,z):\n",
        "  df_dx = 4*x-0.5\n",
        "  df_dy = 0.9*y**2\n",
        "  df_dz = -3*z**2+2\n",
        "  return np.array([df_dx, df_dy, df_dz])"
      ],
      "metadata": {
        "id": "2W0bDTUVAhCY"
      },
      "execution_count": null,
      "outputs": []
    },
    {
      "cell_type": "code",
      "source": [
        "initial_point = np.array([0.0, 0.0, 0.0])\n",
        "learning_rate = 0.01\n",
        "num_iterations = 500"
      ],
      "metadata": {
        "id": "2Smguk9tAmJk"
      },
      "execution_count": null,
      "outputs": []
    },
    {
      "cell_type": "code",
      "source": [
        "def gradient_descent(gradient_func, initial_point, learning_rate, num_iterations,\n",
        "                     display=False, display_step=10):\n",
        "  current_point = initial_point\n",
        "  for i in range(num_iterations):\n",
        "    grad = gradient_func(*current_point)\n",
        "    current_point -= learning_rate * grad\n",
        "    if display and (i+1)%display_step==0:\n",
        "      print(f'iteration {i+1}: point={current_point}')\n",
        "  return current_point"
      ],
      "metadata": {
        "id": "tnLjDKm_Am7f"
      },
      "execution_count": null,
      "outputs": []
    },
    {
      "cell_type": "code",
      "source": [
        "min_point = gradient_descent(grad_f,\n",
        "                             initial_point,\n",
        "                             learning_rate,\n",
        "                             num_iterations,\n",
        "                             display=True,\n",
        "                             display_step=50)\n",
        "min_value = f(*min_point)"
      ],
      "metadata": {
        "id": "ag3pmp9GApNa",
        "colab": {
          "base_uri": "https://localhost:8080/"
        },
        "outputId": "1c274849-19b5-46ee-ad6a-818d9e2394e1"
      },
      "execution_count": null,
      "outputs": [
        {
          "output_type": "stream",
          "name": "stdout",
          "text": [
            "iteration 50: point=[ 0.10876428  0.         -0.69033629]\n",
            "iteration 100: point=[ 0.12289121  0.         -0.80543559]\n",
            "iteration 150: point=[ 0.1247261   0.         -0.81559313]\n",
            "iteration 200: point=[ 0.12496442  0.         -0.81642323]\n",
            "iteration 250: point=[ 0.12499538  0.         -0.81649063]\n",
            "iteration 300: point=[ 0.1249994  0.        -0.8164961]\n",
            "iteration 350: point=[ 0.12499992  0.         -0.81649654]\n",
            "iteration 400: point=[ 0.12499999  0.         -0.81649658]\n",
            "iteration 450: point=[ 0.125       0.         -0.81649658]\n",
            "iteration 500: point=[ 0.125       0.         -0.81649658]\n"
          ]
        }
      ]
    },
    {
      "cell_type": "code",
      "source": [
        "print(f'Minimum is {min_value.round(3)} at point {min_point.round(3)}')"
      ],
      "metadata": {
        "id": "18HgZwZYAt-r",
        "colab": {
          "base_uri": "https://localhost:8080/"
        },
        "outputId": "504cd237-f699-4337-cfc7-bfc6890bc5b3"
      },
      "execution_count": null,
      "outputs": [
        {
          "output_type": "stream",
          "name": "stdout",
          "text": [
            "Minimum is 1.38 at point [ 0.125  0.    -0.816]\n"
          ]
        }
      ]
    },
    {
      "cell_type": "markdown",
      "source": [
        "# Exercise 6.3"
      ],
      "metadata": {
        "id": "ARISYSyb_iCS"
      }
    },
    {
      "cell_type": "code",
      "source": [
        "import numpy as np\n",
        "import pandas as pd\n",
        "import matplotlib.pyplot as plt\n",
        "from sklearn.datasets import load_wine\n",
        "from sklearn.model_selection import train_test_split\n",
        "from sklearn.preprocessing import StandardScaler, OneHotEncoder\n",
        "from sklearn.metrics import confusion_matrix, accuracy_score"
      ],
      "metadata": {
        "id": "JkE31GoKA7NA"
      },
      "execution_count": null,
      "outputs": []
    },
    {
      "cell_type": "code",
      "source": [
        "class ANN(object):\n",
        "    def __init__(self, sizes, hidden_act = \"none\", output_act = \"none\",\n",
        "                 learning_rate = 0.1, random_state = None):\n",
        "        \"\"\"The list ``sizes`` contains the number of neurons in the\n",
        "        respective layers of the network.\n",
        "        For example, if the list was [2, 3, 1] then it would be a\n",
        "        three-layer network, with the first layer containing 2 neurons,\n",
        "        the second layer 3 neurons, and the third layer 1 neuron.\n",
        "        The biases and weights for the network are initialized randomly,\n",
        "        using a Gaussian distribution with mean 0, and variance 1.\n",
        "        Note that the first layer is assumed to be an input layer.\n",
        "        Parameter ``hidden_act`` contains the activation function name used\n",
        "        in hidden layers.\n",
        "        Parameter ``output_act`` contains the activation function name used\n",
        "        in output layer.\n",
        "        Parameter ``loss_func`` must be either MSE or LogLoss.\"\"\"\n",
        "        self.num_layers = len(sizes)\n",
        "        self.sizes = sizes\n",
        "        self.input_size = sizes[0]\n",
        "        self.output_size = sizes[-1]\n",
        "\n",
        "        # biases and weights together\n",
        "        self.W = []\n",
        "        rng = np.random.RandomState(random_state)\n",
        "        for i in np.arange(0, self.num_layers - 2):\n",
        "            # initialize weight matrix (the + 1 is for the bias)\n",
        "            w = rng.randn(self.sizes[i] + 1, self.sizes[i + 1] + 1)\n",
        "            self.W.append(w / np.sqrt(self.sizes[i]))\n",
        "        # last layer is different: it doesn't need a bias\n",
        "        w = rng.randn(self.sizes[-2] + 1, self.sizes[-1])\n",
        "        self.W.append(w / np.sqrt(self.sizes[-2]))\n",
        "\n",
        "        # set activation functions for hidden layers\n",
        "        if hidden_act.lower() == \"sigmoid\":\n",
        "            self.hidden_act = self.sigmoid\n",
        "            self.hidden_prime = self.sigmoid_prime\n",
        "        elif hidden_act.lower() == \"tanh\":\n",
        "            self.hidden_act = self.tanh\n",
        "            self.hidden_prime = self.tanh_prime\n",
        "        elif hidden_act.lower() == \"relu\":\n",
        "            self.hidden_act = self.ReLU\n",
        "            self.hidden_prime = self.ReLU_prime\n",
        "        elif hidden_act.lower() == \"none\":\n",
        "            self.hidden_act = self.no_activation\n",
        "            self.hidden_prime = self.no_activation_prime\n",
        "        else:\n",
        "            raise ValueError('Parameter hidden_act has to be one of these: \"sigmoid\", \"tanh\", \"ReLU\", \"none\".')\n",
        "\n",
        "        # set activation function for output layer\n",
        "        if output_act.lower() == 'none':\n",
        "            self.output_act = self.no_activation\n",
        "            self.output_prime = self.no_activation_prime\n",
        "        elif output_act.lower() == \"sigmoid\":\n",
        "            self.output_act = self.sigmoid\n",
        "            self.output_prime = self.sigmoid_prime\n",
        "        elif output_act.lower() == \"softmax\":\n",
        "            self.output_act = self.softmax\n",
        "            self.output_prime = self.softmax_prime\n",
        "        else:\n",
        "           raise ValueError('Parameter output_act has to be one of these: \"sigmoid\", \"softmax\", \"none\".')\n",
        "\n",
        "        self.alpha = learning_rate\n",
        "        self.results = pd.DataFrame(columns=[\"loss\", \"accuracy\"])\n",
        "\n",
        "    def fit(self, X, y, epochs=100, displayUpdate=1000):\n",
        "        # insert a column with ones for the bias\n",
        "        X = np.c_[X, np.ones((X.shape[0]))]\n",
        "        # loop over the desired number of epochs\n",
        "        for epoch in np.arange(0, epochs):\n",
        "            # loop over each data point\n",
        "            for (x, target) in zip(X,y):\n",
        "                self.fit_partial(x,target)\n",
        "            # check if displaying is in order\n",
        "            if epoch == 0 or (epoch + 1)%displayUpdate == 0:\n",
        "                loss, acc = self.calculate_loss(X, y, epoch)\n",
        "                if acc is None:\n",
        "                    print(f\"[Info] epoch={epoch+1}, loss={loss:.7f}\")\n",
        "                else:\n",
        "                    print(f\"[Info] epoch={epoch+1}, loss={loss:.7f}, accuracy={acc:.3f}\")\n",
        "\n",
        "    def fit_partial(self, x, target):\n",
        "        # activations for each layer\n",
        "        # np.atleast_2d makes array always 2-dimensional\n",
        "        activations = [np.atleast_2d(x)]\n",
        "\n",
        "        # 1. Feedforward\n",
        "        # loop over the layers\n",
        "        for layer in np.arange(0, len(self.W)):\n",
        "            net = activations[layer].dot(self.W[layer])\n",
        "            # compute the activation\n",
        "            if layer == len(self.W)-1:\n",
        "                out = self.output_act(net)\n",
        "            else:\n",
        "                out = self.hidden_act(net)\n",
        "            # add output to list of activations\n",
        "            activations.append(out)\n",
        "\n",
        "        # 2. Backpropagation\n",
        "        # first calculate the output layer\n",
        "        error = activations[-1] - target\n",
        "        deltas = [error * self.output_prime(activations[-1])]\n",
        "\n",
        "        # then the other layer backwards\n",
        "        for layer in np.arange(len(activations)-2, 0, -1):\n",
        "            # delta for current layer is equal to the delta of\n",
        "            # previous layer dotted with the weight matrix\n",
        "            # of current layer, followed by multiplying the delta\n",
        "            # by the derivative of the activation function for the\n",
        "            # current layer\n",
        "            delta = deltas[-1].dot(self.W[layer].T)\n",
        "            delta = delta * self.hidden_prime(activations[layer])\n",
        "            deltas.append(delta)\n",
        "\n",
        "        # 3. Update weights\n",
        "        # since we looped over layers in reverse order we reverse the deltas\n",
        "        deltas = deltas[::-1]\n",
        "\n",
        "        for layer in np.arange(0, len(self.W)):\n",
        "            # update weights by taking the dot product of the layer\n",
        "            # activations with theris respective deltas, then multiplying\n",
        "            # this value by learning rate (some small number)\n",
        "            self.W[layer] += -self.alpha * activations[layer].T.dot(deltas[layer])\n",
        "\n",
        "    def calculate_loss(self, X, targets, epoch):\n",
        "        targets = np.atleast_2d(targets)\n",
        "        # make the predictions\n",
        "        predictions = self.predict(X, addBias=False)\n",
        "        # then compute the loss (- loss function here is either 0.5*MSE or cross-entropy)\n",
        "        if self.output_act == self.softmax:  # = classification -> cross-entropy\n",
        "            loss = -np.sum(targets * np.log(predictions + 1e-15)) / len(targets)\n",
        "        else:\n",
        "            loss = 0.5 * np.sum((predictions - targets) ** 2)\n",
        "\n",
        "        if self.output_act == self.no_activation:  # = regression -> no accuracy\n",
        "            acc = None\n",
        "            new_row = pd.DataFrame({\"epoch\": [epoch+1], \"loss\": [loss]})\n",
        "        else:\n",
        "            acc = (predictions.argmax(axis=1) == targets.argmax(axis=1)).mean()\n",
        "            new_row = pd.DataFrame({\"epoch\": [epoch+1], \"loss\": [loss], \"accuracy\": [acc]})\n",
        "        self.results = pd.concat([self.results, new_row], ignore_index=True)\n",
        "        return (loss, acc)\n",
        "\n",
        "    def predict(self, X, addBias = True):\n",
        "        p = np.atleast_2d(X)\n",
        "\n",
        "        if addBias:\n",
        "            p = np.c_[p, np.ones((p.shape[0]))]\n",
        "\n",
        "        # loop over layers\n",
        "        for layer in np.arange(0, len(self.W)):\n",
        "            if layer == len(self.W)-1:\n",
        "                p = self.output_act(np.dot(p, self.W[layer]))\n",
        "            else:\n",
        "                p = self.hidden_act(np.dot(p, self.W[layer]))\n",
        "\n",
        "        return p\n",
        "\n",
        "    # Activation functions\n",
        "    def sigmoid(self, x):\n",
        "        return 1/(1+np.exp(-x))\n",
        "\n",
        "    def tanh(self, x):\n",
        "        return np.tanh(x)\n",
        "\n",
        "    def ReLU(self, x):\n",
        "        return (x > 0) * x\n",
        "\n",
        "    def no_activation(self, x):\n",
        "        return x\n",
        "\n",
        "    def softmax(self, x):\n",
        "        exp_scores = np.exp(x - np.max(x, axis=1, keepdims=True))\n",
        "        return exp_scores / np.sum(exp_scores, axis=1, keepdims=True)\n",
        "\n",
        "    def sigmoid_prime(self, x):\n",
        "       # return self.sigmoid(x)*(1-self.sigmoid(x))\n",
        "        return x*(1-x)\n",
        "\n",
        "    def tanh_prime(self, x):\n",
        "        return 1-np.tanh(x)**2\n",
        "\n",
        "    def ReLU_prime(self, x):\n",
        "        return x > 0\n",
        "\n",
        "    def softmax_prime(self, x):\n",
        "        # Derivative of softmax: https://deepnotes.io/softmax-crossentropy\n",
        "        # Here we use the same as sigmoid_prime\n",
        "        return x * (1 - x)\n",
        "\n",
        "    def no_activation_prime(self, x):\n",
        "        return 1"
      ],
      "metadata": {
        "id": "yBlC01wmEs7S"
      },
      "execution_count": null,
      "outputs": []
    },
    {
      "cell_type": "code",
      "source": [
        "random_state = 127"
      ],
      "metadata": {
        "id": "U4M6cf7ADk6c"
      },
      "execution_count": null,
      "outputs": []
    },
    {
      "cell_type": "code",
      "source": [
        "wine = load_wine()\n",
        "X = wine.data\n",
        "y = wine.target"
      ],
      "metadata": {
        "id": "YvkB-y91Dpth"
      },
      "execution_count": null,
      "outputs": []
    },
    {
      "cell_type": "code",
      "source": [
        "X.shape"
      ],
      "metadata": {
        "id": "y1unaak5Dryf"
      },
      "execution_count": null,
      "outputs": []
    },
    {
      "cell_type": "code",
      "source": [
        "y_ohe = OneHotEncoder().fit_transform(y.reshape(-1, 1)).toarray()"
      ],
      "metadata": {
        "id": "S74ydMzjDxCz"
      },
      "execution_count": null,
      "outputs": []
    },
    {
      "cell_type": "code",
      "source": [
        "y_ohe[:3]"
      ],
      "metadata": {
        "colab": {
          "base_uri": "https://localhost:8080/"
        },
        "id": "haXwVEpO_Baw",
        "outputId": "0b5beb4e-b029-4493-c466-24da2698c477"
      },
      "execution_count": null,
      "outputs": [
        {
          "output_type": "execute_result",
          "data": {
            "text/plain": [
              "array([[1., 0., 0.],\n",
              "       [1., 0., 0.],\n",
              "       [1., 0., 0.]])"
            ]
          },
          "metadata": {},
          "execution_count": 13
        }
      ]
    },
    {
      "cell_type": "code",
      "source": [
        "X_train, X_test, y_train, y_test = train_test_split(X,\n",
        "                                                    y_ohe,\n",
        "                                                    test_size=0.2,\n",
        "                                                    random_state=random_state)"
      ],
      "metadata": {
        "id": "6FgtOLuEDzox"
      },
      "execution_count": null,
      "outputs": []
    },
    {
      "cell_type": "code",
      "source": [
        "scaler = StandardScaler()\n",
        "X_train = scaler.fit_transform(X_train)\n",
        "X_test = scaler.transform(X_test)"
      ],
      "metadata": {
        "id": "hlDs9aJ4D2eb"
      },
      "execution_count": null,
      "outputs": []
    },
    {
      "cell_type": "code",
      "source": [
        "ann = ANN(sizes=[13, 7, 5, 3],\n",
        "          hidden_act=\"tanh\",\n",
        "          output_act=\"softmax\",\n",
        "          learning_rate=0.1,\n",
        "          random_state=random_state)"
      ],
      "metadata": {
        "id": "lZML3yiQD-9B"
      },
      "execution_count": null,
      "outputs": []
    },
    {
      "cell_type": "code",
      "source": [
        "ann.fit(X_train, y_train, epochs=100, displayUpdate=20)"
      ],
      "metadata": {
        "id": "Q-jrS35nEAGr",
        "colab": {
          "base_uri": "https://localhost:8080/"
        },
        "outputId": "0604f17c-6a4e-492d-9034-84942a50cc7a"
      },
      "execution_count": null,
      "outputs": [
        {
          "output_type": "stream",
          "name": "stderr",
          "text": [
            "<ipython-input-9-ffbbe9441d2d>:140: FutureWarning: The behavior of DataFrame concatenation with empty or all-NA entries is deprecated. In a future version, this will no longer exclude empty or all-NA columns when determining the result dtypes. To retain the old behavior, exclude the relevant entries before the concat operation.\n",
            "  self.results = pd.concat([self.results, new_row], ignore_index=True)\n"
          ]
        },
        {
          "output_type": "stream",
          "name": "stdout",
          "text": [
            "[Info] epoch=1, loss=0.4085198, accuracy=0.901\n",
            "[Info] epoch=20, loss=0.0275933, accuracy=1.000\n",
            "[Info] epoch=40, loss=0.0179121, accuracy=1.000\n",
            "[Info] epoch=60, loss=0.0140955, accuracy=1.000\n",
            "[Info] epoch=80, loss=0.0119384, accuracy=1.000\n",
            "[Info] epoch=100, loss=0.0105140, accuracy=1.000\n"
          ]
        }
      ]
    },
    {
      "cell_type": "code",
      "source": [
        "outputs = ann.predict(X_test)"
      ],
      "metadata": {
        "id": "8PkLcpzXEDeN"
      },
      "execution_count": null,
      "outputs": []
    },
    {
      "cell_type": "code",
      "source": [
        "outputs"
      ],
      "metadata": {
        "id": "zblm_7wbFO6v",
        "colab": {
          "base_uri": "https://localhost:8080/"
        },
        "outputId": "6f7f8600-4a10-4409-b7fe-521a3ca87e66"
      },
      "execution_count": null,
      "outputs": [
        {
          "output_type": "execute_result",
          "data": {
            "text/plain": [
              "array([[1.38665848e-02, 9.84471768e-01, 1.66164706e-03],\n",
              "       [2.53834084e-03, 6.17865862e-03, 9.91283001e-01],\n",
              "       [1.19005114e-03, 9.96499256e-01, 2.31069315e-03],\n",
              "       [1.65999919e-03, 5.84203567e-02, 9.39919644e-01],\n",
              "       [2.70774060e-03, 5.19218714e-03, 9.92100072e-01],\n",
              "       [9.92390397e-01, 5.42661203e-03, 2.18299055e-03],\n",
              "       [2.23205545e-03, 9.96487949e-01, 1.27999589e-03],\n",
              "       [6.45055527e-03, 4.01702895e-03, 9.89532416e-01],\n",
              "       [9.93801566e-01, 7.92560893e-04, 5.40587266e-03],\n",
              "       [9.94864853e-01, 1.66553238e-03, 3.46961434e-03],\n",
              "       [9.94239804e-01, 1.62329300e-03, 4.13690308e-03],\n",
              "       [9.95017966e-01, 1.34423201e-03, 3.63780238e-03],\n",
              "       [3.96751936e-04, 9.93061540e-01, 6.54170840e-03],\n",
              "       [2.86739350e-03, 9.96040280e-01, 1.09232619e-03],\n",
              "       [9.87567108e-01, 4.50733558e-04, 1.19821585e-02],\n",
              "       [1.16685335e-02, 9.85609720e-01, 2.72174616e-03],\n",
              "       [9.89565001e-01, 8.75078455e-03, 1.68421456e-03],\n",
              "       [1.24013561e-03, 9.96764778e-01, 1.99508654e-03],\n",
              "       [9.94810298e-01, 1.34833656e-03, 3.84136558e-03],\n",
              "       [1.18593007e-03, 9.96607885e-01, 2.20618497e-03],\n",
              "       [9.92670906e-01, 5.47219084e-04, 6.78187461e-03],\n",
              "       [9.94987634e-01, 1.02948840e-03, 3.98287803e-03],\n",
              "       [9.93686059e-01, 6.34471188e-04, 5.67946957e-03],\n",
              "       [9.84432526e-01, 1.40832001e-02, 1.48427389e-03],\n",
              "       [9.90143138e-01, 7.88846797e-04, 9.06801489e-03],\n",
              "       [1.27254915e-03, 9.96710357e-01, 2.01709337e-03],\n",
              "       [4.25335340e-04, 9.70502998e-01, 2.90716670e-02],\n",
              "       [9.87235065e-01, 4.67529549e-04, 1.22974059e-02],\n",
              "       [1.28522185e-03, 9.96692351e-01, 2.02242667e-03],\n",
              "       [9.42681800e-01, 5.57813368e-02, 1.53686342e-03],\n",
              "       [9.92752563e-01, 5.82425149e-04, 6.66501146e-03],\n",
              "       [2.84743827e-03, 6.02648427e-03, 9.91126077e-01],\n",
              "       [3.71605955e-03, 4.63525250e-03, 9.91648688e-01],\n",
              "       [9.99756658e-03, 3.34924491e-03, 9.86653189e-01],\n",
              "       [1.33936957e-03, 9.96572297e-01, 2.08833304e-03],\n",
              "       [7.48410653e-04, 9.53737753e-01, 4.55138364e-02]])"
            ]
          },
          "metadata": {},
          "execution_count": 19
        }
      ]
    },
    {
      "cell_type": "code",
      "source": [
        "print(\"[INFO] evaluating network...\")\n",
        "predictions = outputs.argmax(axis=1)\n",
        "test_accuracy = round(accuracy_score(y_test.argmax(axis=1), predictions),3)\n",
        "print('Test accuracy')\n",
        "print(test_accuracy)\n",
        "print('Test confusion matrix')\n",
        "print(confusion_matrix(y_test.argmax(axis=1), predictions))"
      ],
      "metadata": {
        "id": "_PrNFcvjEMSx",
        "colab": {
          "base_uri": "https://localhost:8080/"
        },
        "outputId": "cb6def26-4afd-4693-fe53-0fab2ba45ecf"
      },
      "execution_count": null,
      "outputs": [
        {
          "output_type": "stream",
          "name": "stdout",
          "text": [
            "[INFO] evaluating network...\n",
            "Test accuracy\n",
            "0.972\n",
            "Test confusion matrix\n",
            "[[16  0  0]\n",
            " [ 0 13  1]\n",
            " [ 0  0  6]]\n"
          ]
        }
      ]
    },
    {
      "cell_type": "code",
      "source": [
        "name = 'Hans Nieminen'\n",
        "ann.results.plot(x= 'epoch', y = \"loss\", title='Loss')\n",
        "plt.suptitle(f'{name}, accuracy: {test_accuracy}')\n",
        "plt.show()"
      ],
      "metadata": {
        "id": "oXtLoL5tFwFY",
        "colab": {
          "base_uri": "https://localhost:8080/",
          "height": 497
        },
        "outputId": "05c316c3-05bf-45e6-91d8-b5259a32d412"
      },
      "execution_count": null,
      "outputs": [
        {
          "output_type": "display_data",
          "data": {
            "text/plain": [
              "<Figure size 640x480 with 1 Axes>"
            ],
            "image/png": "[encoded data removed]"
          },
          "metadata": {}
        }
      ]
    },
    {
      "cell_type": "markdown",
      "source": [
        "# Exercise 6.4"
      ],
      "metadata": {
        "id": "m3Ltw8PLOGfB"
      }
    },
    {
      "cell_type": "code",
      "source": [
        "import numpy as np"
      ],
      "metadata": {
        "id": "Z8UftbG6OId0"
      },
      "execution_count": null,
      "outputs": []
    },
    {
      "cell_type": "code",
      "source": [
        "steps = 3\n",
        "gamma = 0.1\n",
        "W_steps = []\n",
        "W = np.array([[0.3, 0.1],\n",
        "              [0.1, 0.2]])\n",
        "epsilon = 10**-8\n",
        "S = 0"
      ],
      "metadata": {
        "id": "58o-LefNOM1_"
      },
      "execution_count": null,
      "outputs": []
    },
    {
      "cell_type": "code",
      "source": [
        "for t in range(1, steps+1):\n",
        "  # compute partial derivatives\n",
        "  delta_w = 2 * W\n",
        "  S += np.square(delta_w)\n",
        "  alpha = gamma / (np.sqrt(S+epsilon))\n",
        "  W = W - alpha * delta_w\n",
        "  W_steps.append((t,W))"
      ],
      "metadata": {
        "id": "GySgzyrBOP9w"
      },
      "execution_count": null,
      "outputs": []
    },
    {
      "cell_type": "code",
      "source": [
        "W_steps"
      ],
      "metadata": {
        "id": "AoqqAoseOfxZ",
        "colab": {
          "base_uri": "https://localhost:8080/"
        },
        "outputId": "3f6a4a0c-32aa-4947-a429-88c60193fc64"
      },
      "execution_count": null,
      "outputs": [
        {
          "output_type": "execute_result",
          "data": {
            "text/plain": [
              "[(1,\n",
              "  array([[2.00000001e-01, 1.24999977e-08],\n",
              "         [1.24999977e-08, 1.00000003e-01]])),\n",
              " (2,\n",
              "  array([[1.44529982e-01, 1.56249952e-15],\n",
              "         [1.56249952e-15, 5.52786436e-02]])),\n",
              " (3,\n",
              "  array([[1.07322586e-01, 1.95312415e-22],\n",
              "         [1.95312415e-22, 3.12797498e-02]]))]"
            ]
          },
          "metadata": {},
          "execution_count": 26
        }
      ]
    },
    {
      "cell_type": "code",
      "source": [
        "W"
      ],
      "metadata": {
        "id": "1-dvfXIOOiSw",
        "colab": {
          "base_uri": "https://localhost:8080/"
        },
        "outputId": "8507ef0b-194f-4d1e-b3d7-62190143ee38"
      },
      "execution_count": null,
      "outputs": [
        {
          "output_type": "execute_result",
          "data": {
            "text/plain": [
              "array([[1.07322586e-01, 1.95312415e-22],\n",
              "       [1.95312415e-22, 3.12797498e-02]])"
            ]
          },
          "metadata": {},
          "execution_count": 27
        }
      ]
    },
    {
      "cell_type": "code",
      "source": [
        "print(W.sum().round(3))"
      ],
      "metadata": {
        "id": "qVT2E715OjUq",
        "colab": {
          "base_uri": "https://localhost:8080/"
        },
        "outputId": "8e229545-f1a3-48bd-8d98-bbb01821ad7f"
      },
      "execution_count": null,
      "outputs": [
        {
          "output_type": "stream",
          "name": "stdout",
          "text": [
            "0.139\n"
          ]
        }
      ]
    }
  ]
}