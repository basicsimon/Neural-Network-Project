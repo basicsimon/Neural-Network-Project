{
  "nbformat": 4,
  "nbformat_minor": 0,
  "metadata": {
    "colab": {
      "provenance": []
    },
    "kernelspec": {
      "name": "python3",
      "display_name": "Python 3"
    },
    "language_info": {
      "name": "python"
    }
  },
  "cells": [
    {
      "cell_type": "markdown",
      "source": [
        "\n",
        "Working with Neural Network Models\n",
        "\n",
        "© Hans Nieminen, Satakunta University of Applied Sciences"
      ],
      "metadata": {
        "id": "BdzY94rGzUEy"
      }
    },
    {
      "cell_type": "markdown",
      "source": [
        "# Exercise 4.3"
      ],
      "metadata": {
        "id": "_s9H8VUizXLv"
      }
    },
    {
      "cell_type": "markdown",
      "source": [
        "input - 1st hidden layer: $(30 + 1)\\times 20 = 620$\n",
        "\n",
        "1st hidden - 2nd hidden layer: $(20+1)\\times 9=189$\n",
        "\n",
        "2nd hidden - 3rd hidden layer: $(9+1)\\times 4=40$\n",
        "\n",
        "3rd hidden - output layer: $(4+1)\\times 2=10$\n",
        "\n",
        "Total number of parameters: $620+189+40+10=859$"
      ],
      "metadata": {
        "id": "xN1m8RzSzaJy"
      }
    },
    {
      "cell_type": "code",
      "source": [
        "input_layer = 30\n",
        "hidden1 = 20\n",
        "hidden2 = 9\n",
        "hidden3 = 4\n",
        "output_layer = 2\n",
        "biases = True\n",
        "parameter_counts = {\n",
        " 'hidden1':(input_layer+biases)*hidden1,\n",
        " 'hidden2':(hidden1+biases)*hidden2,\n",
        " 'hidden3':(hidden2+biases)*hidden3,\n",
        " 'output':(hidden3+biases)*output_layer\n",
        "}\n",
        "parameter_counts"
      ],
      "metadata": {
        "id": "ZNC4ZqXLzySW",
        "colab": {
          "base_uri": "https://localhost:8080/"
        },
        "outputId": "694d7fbd-c3e0-40a5-86bc-5ab0d0bdf65c"
      },
      "execution_count": null,
      "outputs": [
        {
          "output_type": "execute_result",
          "data": {
            "text/plain": [
              "{'hidden1': 620, 'hidden2': 189, 'hidden3': 40, 'output': 10}"
            ]
          },
          "metadata": {},
          "execution_count": 1
        }
      ]
    },
    {
      "cell_type": "code",
      "source": [
        "print('Total number of parameters is', sum(parameter_counts.values()))"
      ],
      "metadata": {
        "id": "orGhzUKDzzkn",
        "colab": {
          "base_uri": "https://localhost:8080/"
        },
        "outputId": "90038ae5-89c7-4ae2-c8dd-0e03303a8773"
      },
      "execution_count": null,
      "outputs": [
        {
          "output_type": "stream",
          "name": "stdout",
          "text": [
            "Total number of parameters is 859\n"
          ]
        }
      ]
    },
    {
      "cell_type": "markdown",
      "source": [
        "# Exercise 4.4"
      ],
      "metadata": {
        "id": "XoGAVLsZzmSd"
      }
    },
    {
      "cell_type": "code",
      "execution_count": null,
      "metadata": {
        "id": "iOjlTgGHzSQ-"
      },
      "outputs": [],
      "source": [
        "import numpy as np\n",
        "\n",
        "def softmax(x):\n",
        "    dim = x.ndim\n",
        "    x = np.atleast_2d(x)\n",
        "    result = np.empty(x.shape)\n",
        "    for i in range(x.shape[0]):\n",
        "        result[i,:] = np.exp(x[i]) / np.sum(np.exp(x[i]), axis=0)\n",
        "    # if parameter x was originally 1D, return a vector\n",
        "    if dim == 1:\n",
        "      result = result[0]\n",
        "    return result"
      ]
    },
    {
      "cell_type": "code",
      "source": [
        "a = np.array([0.56, 2.3, 6.2, 2.7, 7.4, 3.2, 0.82, 3.7])"
      ],
      "metadata": {
        "id": "vBqEHkVS0pwX"
      },
      "execution_count": null,
      "outputs": []
    },
    {
      "cell_type": "code",
      "source": [
        "outputs = softmax(a)\n",
        "outputs.round(3)"
      ],
      "metadata": {
        "id": "wHKIHVYX0sYb",
        "colab": {
          "base_uri": "https://localhost:8080/"
        },
        "outputId": "4b1b4354-3544-4412-ca92-643388a3a449"
      },
      "execution_count": null,
      "outputs": [
        {
          "output_type": "execute_result",
          "data": {
            "text/plain": [
              "array([0.001, 0.004, 0.222, 0.007, 0.736, 0.011, 0.001, 0.018])"
            ]
          },
          "metadata": {},
          "execution_count": 5
        }
      ]
    },
    {
      "cell_type": "code",
      "source": [
        "ind = np.where(outputs.round(3) == 0.011)[0][0]\n",
        "print(a[ind])"
      ],
      "metadata": {
        "id": "-dgx9pgt0wgV",
        "colab": {
          "base_uri": "https://localhost:8080/"
        },
        "outputId": "d55f9014-3952-4376-a8f7-cbefa63e313b"
      },
      "execution_count": null,
      "outputs": [
        {
          "output_type": "stream",
          "name": "stdout",
          "text": [
            "3.2\n"
          ]
        }
      ]
    }
  ]
}