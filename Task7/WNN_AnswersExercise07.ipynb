{
  "nbformat": 4,
  "nbformat_minor": 0,
  "metadata": {
    "colab": {
      "provenance": [],
      "gpuType": "T4"
    },
    "kernelspec": {
      "name": "python3",
      "display_name": "Python 3"
    },
    "language_info": {
      "name": "python"
    },
    "accelerator": "GPU"
  },
  "cells": [
    {
      "cell_type": "markdown",
      "source": [
        "Working with Neural Network Models\n",
        "\n",
        "© Hans Nieminen, Satakunta University of Applied Sciences"
      ],
      "metadata": {
        "id": "koexHZWHSg2F"
      }
    },
    {
      "cell_type": "markdown",
      "source": [
        "# Exercise 7.1"
      ],
      "metadata": {
        "id": "o_qGCQzdSkms"
      }
    },
    {
      "cell_type": "markdown",
      "source": [
        "For this exercise use the GPU."
      ],
      "metadata": {
        "id": "XaOCAaE4SrqI"
      }
    },
    {
      "cell_type": "code",
      "execution_count": null,
      "metadata": {
        "id": "mA4AIVtcSeoZ"
      },
      "outputs": [],
      "source": [
        "import numpy as np\n",
        "import torch"
      ]
    },
    {
      "cell_type": "code",
      "source": [
        "torch.manual_seed(222)\n",
        "t_cpu = torch.randint(-1000, 1001, (100, 1000, 1000))"
      ],
      "metadata": {
        "id": "I81Ti82TS2XB"
      },
      "execution_count": null,
      "outputs": []
    },
    {
      "cell_type": "code",
      "source": [
        "if torch.cuda.is_available():\n",
        "    # Move tensor to GPU\n",
        "    t_gpu = t_cpu.to('cuda')"
      ],
      "metadata": {
        "id": "hu6_SUCCS46V"
      },
      "execution_count": null,
      "outputs": []
    },
    {
      "cell_type": "code",
      "source": [
        "if torch.cuda.is_available():\n",
        "    # Compute the mean of all elements in the tensor on the GPU\n",
        "    tensor_mean_gpu = t_gpu.float().mean()\n",
        "    # Compute the standard deviation of all elements in the tensor on the GPU\n",
        "    tensor_std_gpu = t_gpu.float().std()"
      ],
      "metadata": {
        "id": "NG3fe1IAS8UZ"
      },
      "execution_count": null,
      "outputs": []
    },
    {
      "cell_type": "code",
      "source": [
        "if torch.cuda.is_available():\n",
        "    # Move the results back to the CPU\n",
        "    tensor_mean_cpu = tensor_mean_gpu.to('cpu')\n",
        "    tensor_std_cpu = tensor_std_gpu.to('cpu')"
      ],
      "metadata": {
        "id": "oQsnatLWTAGU"
      },
      "execution_count": null,
      "outputs": []
    },
    {
      "cell_type": "code",
      "source": [
        "tensor_mean_cpu"
      ],
      "metadata": {
        "colab": {
          "base_uri": "https://localhost:8080/"
        },
        "id": "Nai-SU2_TCx5",
        "outputId": "feecf883-a6ab-4478-ac86-4bf26b91075f"
      },
      "execution_count": null,
      "outputs": [
        {
          "output_type": "execute_result",
          "data": {
            "text/plain": [
              "tensor(0.0029)"
            ]
          },
          "metadata": {},
          "execution_count": 6
        }
      ]
    },
    {
      "cell_type": "code",
      "source": [
        "tensor_std_cpu"
      ],
      "metadata": {
        "colab": {
          "base_uri": "https://localhost:8080/"
        },
        "id": "iyFB4LbpTFON",
        "outputId": "4673524b-eee9-432c-b5ac-554b6efb5488"
      },
      "execution_count": null,
      "outputs": [
        {
          "output_type": "execute_result",
          "data": {
            "text/plain": [
              "tensor(577.6354)"
            ]
          },
          "metadata": {},
          "execution_count": 7
        }
      ]
    },
    {
      "cell_type": "code",
      "source": [
        "t1_cpu = torch.cat((tensor_mean_cpu.reshape(1),\n",
        "                    tensor_std_cpu.reshape(1)),\n",
        "                   dim=0)\n",
        "t1_cpu"
      ],
      "metadata": {
        "colab": {
          "base_uri": "https://localhost:8080/"
        },
        "id": "3J8zOb3yTHk0",
        "outputId": "b471a36c-00b5-4053-f57e-af86a1710cf0"
      },
      "execution_count": null,
      "outputs": [
        {
          "output_type": "execute_result",
          "data": {
            "text/plain": [
              "tensor([2.8614e-03, 5.7764e+02])"
            ]
          },
          "metadata": {},
          "execution_count": 8
        }
      ]
    },
    {
      "cell_type": "code",
      "source": [
        "torch.manual_seed(888)\n",
        "t2_cpu = torch.randint(1, 11, (10,2))"
      ],
      "metadata": {
        "id": "bEv1ZXYeTV8F"
      },
      "execution_count": null,
      "outputs": []
    },
    {
      "cell_type": "code",
      "source": [
        "t2_cpu"
      ],
      "metadata": {
        "colab": {
          "base_uri": "https://localhost:8080/"
        },
        "id": "J2eeSxtcTfmf",
        "outputId": "ab50b843-aeb5-4c1f-a5ad-af49f702af98"
      },
      "execution_count": null,
      "outputs": [
        {
          "output_type": "execute_result",
          "data": {
            "text/plain": [
              "tensor([[ 3,  1],\n",
              "        [10,  6],\n",
              "        [ 1,  6],\n",
              "        [ 2,  3],\n",
              "        [ 8,  5],\n",
              "        [10,  4],\n",
              "        [ 9,  8],\n",
              "        [ 1,  5],\n",
              "        [10, 10],\n",
              "        [ 1,  3]])"
            ]
          },
          "metadata": {},
          "execution_count": 10
        }
      ]
    },
    {
      "cell_type": "code",
      "source": [
        "product = torch.matmul(t2_cpu.float(), t1_cpu)"
      ],
      "metadata": {
        "id": "i4jFQSUyTgzY"
      },
      "execution_count": null,
      "outputs": []
    },
    {
      "cell_type": "code",
      "source": [
        "product"
      ],
      "metadata": {
        "colab": {
          "base_uri": "https://localhost:8080/"
        },
        "id": "Ip-mlTCiTlYt",
        "outputId": "ff5fa5be-6811-4769-b572-8aff68696191"
      },
      "execution_count": null,
      "outputs": [
        {
          "output_type": "execute_result",
          "data": {
            "text/plain": [
              "tensor([ 577.6440, 3465.8413, 3465.8154, 1732.9120, 2888.2002, 2310.5703,\n",
              "        4621.1094, 2888.1799, 5776.3833, 1732.9091])"
            ]
          },
          "metadata": {},
          "execution_count": 12
        }
      ]
    },
    {
      "cell_type": "code",
      "source": [
        "print(product.numpy().mean().round(2))"
      ],
      "metadata": {
        "colab": {
          "base_uri": "https://localhost:8080/"
        },
        "id": "qxo_KCMBTmS1",
        "outputId": "49a00b9c-1546-498a-a1c0-adb6b6aa5861"
      },
      "execution_count": null,
      "outputs": [
        {
          "output_type": "stream",
          "name": "stdout",
          "text": [
            "2945.96\n"
          ]
        }
      ]
    },
    {
      "cell_type": "markdown",
      "source": [
        "# Exercise 7.2"
      ],
      "metadata": {
        "id": "Uf3GMsFGTpok"
      }
    },
    {
      "cell_type": "code",
      "source": [
        "import numpy as np\n",
        "import pandas as pd\n",
        "from sklearn.datasets import load_iris\n",
        "\n",
        "import torch\n",
        "from torch.utils.data import Dataset, DataLoader"
      ],
      "metadata": {
        "id": "MHoBLKEoTrsN"
      },
      "execution_count": null,
      "outputs": []
    },
    {
      "cell_type": "code",
      "source": [
        "class Dataset0702(Dataset):\n",
        "    def __init__(self, X, y, transform=None):\n",
        "        self.X = X\n",
        "        self.y = y\n",
        "        self.transform = transform\n",
        "\n",
        "    def __len__(self):\n",
        "        return len(self.y)\n",
        "\n",
        "    def __getitem__(self, idx):\n",
        "        input = self.X[idx]\n",
        "        label = self.y[idx]\n",
        "        if self.transform is not None:\n",
        "            for trf in self.transform:\n",
        "                input = trf(input)\n",
        "        input = torch.tensor(input, dtype=torch.float32)\n",
        "        label = torch.tensor(label, dtype=torch.float32)\n",
        "        return input, label"
      ],
      "metadata": {
        "id": "vAyOGnDyUIib"
      },
      "execution_count": null,
      "outputs": []
    },
    {
      "cell_type": "code",
      "source": [
        "X, y = load_iris(return_X_y=True)"
      ],
      "metadata": {
        "id": "lSFSspvjURDF"
      },
      "execution_count": null,
      "outputs": []
    },
    {
      "cell_type": "code",
      "source": [
        "X[:3]"
      ],
      "metadata": {
        "colab": {
          "base_uri": "https://localhost:8080/"
        },
        "id": "xTyrfQFuUU69",
        "outputId": "58cf5d15-8f54-4570-fc6d-764fbbc425da"
      },
      "execution_count": null,
      "outputs": [
        {
          "output_type": "execute_result",
          "data": {
            "text/plain": [
              "array([[5.1, 3.5, 1.4, 0.2],\n",
              "       [4.9, 3. , 1.4, 0.2],\n",
              "       [4.7, 3.2, 1.3, 0.2]])"
            ]
          },
          "metadata": {},
          "execution_count": 17
        }
      ]
    },
    {
      "cell_type": "code",
      "source": [
        "X.shape"
      ],
      "metadata": {
        "colab": {
          "base_uri": "https://localhost:8080/"
        },
        "id": "Ooa913FnUWKJ",
        "outputId": "8f94fde6-47b6-4e65-ad26-b2a9acc98036"
      },
      "execution_count": null,
      "outputs": [
        {
          "output_type": "execute_result",
          "data": {
            "text/plain": [
              "(150, 4)"
            ]
          },
          "metadata": {},
          "execution_count": 18
        }
      ]
    },
    {
      "cell_type": "code",
      "source": [
        "y[:3]"
      ],
      "metadata": {
        "colab": {
          "base_uri": "https://localhost:8080/"
        },
        "id": "9AEVc4wyUYUd",
        "outputId": "d7d1e50b-b6a6-40ac-8e6b-3630bbbf8ead"
      },
      "execution_count": null,
      "outputs": [
        {
          "output_type": "execute_result",
          "data": {
            "text/plain": [
              "array([0, 0, 0])"
            ]
          },
          "metadata": {},
          "execution_count": 19
        }
      ]
    },
    {
      "cell_type": "code",
      "source": [
        "def Squared(x):\n",
        "    return x**2\n",
        "\n",
        "def Log(x):\n",
        "    return np.log(x)"
      ],
      "metadata": {
        "id": "ptxluiKtUaH7"
      },
      "execution_count": null,
      "outputs": []
    },
    {
      "cell_type": "code",
      "source": [
        "Log(Squared(X))[:3]"
      ],
      "metadata": {
        "colab": {
          "base_uri": "https://localhost:8080/"
        },
        "id": "4d5H8IH1Ugbf",
        "outputId": "e80e0e6a-0d6f-4ddd-d49e-d519d44974fb"
      },
      "execution_count": null,
      "outputs": [
        {
          "output_type": "execute_result",
          "data": {
            "text/plain": [
              "array([[ 3.25848108,  2.50552594,  0.67294447, -3.21887582],\n",
              "       [ 3.17847041,  2.19722458,  0.67294447, -3.21887582],\n",
              "       [ 3.09512502,  2.32630162,  0.52472853, -3.21887582]])"
            ]
          },
          "metadata": {},
          "execution_count": 21
        }
      ]
    },
    {
      "cell_type": "code",
      "source": [
        "transform = [Squared, Log]"
      ],
      "metadata": {
        "id": "vQlamAhPUkCU"
      },
      "execution_count": null,
      "outputs": []
    },
    {
      "cell_type": "code",
      "source": [
        "transformed_dataset = Dataset0702(X,\n",
        "                                  y,\n",
        "                                  transform=transform)"
      ],
      "metadata": {
        "id": "sZp5-BWQUk3S"
      },
      "execution_count": null,
      "outputs": []
    },
    {
      "cell_type": "code",
      "source": [
        "transformed_dataloader = DataLoader(transformed_dataset,\n",
        "                                    batch_size=16,\n",
        "                                    shuffle=False)"
      ],
      "metadata": {
        "id": "gQWTnlTQUpdI"
      },
      "execution_count": null,
      "outputs": []
    },
    {
      "cell_type": "code",
      "source": [
        "for batch_idx, (inputs, labels) in enumerate(transformed_dataloader):\n",
        "    if batch_idx == 7:\n",
        "        print(f\"Transformed Batch {batch_idx + 1}\")\n",
        "        batch8_inputs = inputs\n",
        "        batch8_labels = labels"
      ],
      "metadata": {
        "colab": {
          "base_uri": "https://localhost:8080/"
        },
        "id": "Kiv_pBfMUtMu",
        "outputId": "30ff6a40-48b8-46a1-c15f-2de16a1c010f"
      },
      "execution_count": null,
      "outputs": [
        {
          "output_type": "stream",
          "name": "stdout",
          "text": [
            "Transformed Batch 8\n"
          ]
        }
      ]
    },
    {
      "cell_type": "code",
      "source": [
        "batch8_inputs.shape"
      ],
      "metadata": {
        "colab": {
          "base_uri": "https://localhost:8080/"
        },
        "id": "1IvZw6_AUxbG",
        "outputId": "6ce17047-ae0a-4e27-fc4c-bea862865214"
      },
      "execution_count": null,
      "outputs": [
        {
          "output_type": "execute_result",
          "data": {
            "text/plain": [
              "torch.Size([16, 4])"
            ]
          },
          "metadata": {},
          "execution_count": 26
        }
      ]
    },
    {
      "cell_type": "code",
      "source": [
        "batch8_inputs"
      ],
      "metadata": {
        "colab": {
          "base_uri": "https://localhost:8080/"
        },
        "id": "z58nVpLdUz8W",
        "outputId": "22432629-7546-433b-b396-8c4e4d6f8565"
      },
      "execution_count": null,
      "outputs": [
        {
          "output_type": "execute_result",
          "data": {
            "text/plain": [
              "tensor([[3.8338, 2.1972, 3.4095, 1.4839],\n",
              "        [3.4809, 1.8326, 3.2189, 1.3863],\n",
              "        [3.5157, 2.0592, 3.2585, 1.7509],\n",
              "        [3.7126, 2.3263, 3.3354, 1.6658],\n",
              "        [3.7436, 2.1972, 3.4095, 1.1756],\n",
              "        [4.0824, 2.6700, 3.8042, 1.5769],\n",
              "        [4.0824, 1.9110, 3.8630, 1.6658],\n",
              "        [3.5835, 1.5769, 3.2189, 0.8109],\n",
              "        [3.8630, 2.3263, 3.4809, 1.6658],\n",
              "        [3.4455, 2.0592, 3.1785, 1.3863],\n",
              "        [4.0824, 2.0592, 3.8042, 1.3863],\n",
              "        [3.6811, 1.9865, 3.1785, 1.1756],\n",
              "        [3.8042, 2.3878, 3.4809, 1.4839],\n",
              "        [3.9482, 2.3263, 3.5835, 1.1756],\n",
              "        [3.6491, 2.0592, 3.1372, 1.1756],\n",
              "        [3.6166, 2.1972, 3.1785, 1.1756]])"
            ]
          },
          "metadata": {},
          "execution_count": 27
        }
      ]
    },
    {
      "cell_type": "code",
      "source": [
        "batch8_labels"
      ],
      "metadata": {
        "colab": {
          "base_uri": "https://localhost:8080/"
        },
        "id": "anXWAjjAU2j_",
        "outputId": "e7ff87eb-9a0b-4e71-9d39-48c966899d07"
      },
      "execution_count": null,
      "outputs": [
        {
          "output_type": "execute_result",
          "data": {
            "text/plain": [
              "tensor([2., 2., 2., 2., 2., 2., 2., 2., 2., 2., 2., 2., 2., 2., 2., 2.])"
            ]
          },
          "metadata": {},
          "execution_count": 28
        }
      ]
    },
    {
      "cell_type": "code",
      "source": [
        "print(batch8_inputs.numpy()[:,1].mean().round(3))"
      ],
      "metadata": {
        "colab": {
          "base_uri": "https://localhost:8080/"
        },
        "id": "BVp1nMSzU5aQ",
        "outputId": "8833416f-779b-4729-9e1e-68f9e23dc23f"
      },
      "execution_count": null,
      "outputs": [
        {
          "output_type": "stream",
          "name": "stdout",
          "text": [
            "2.136\n"
          ]
        }
      ]
    },
    {
      "cell_type": "markdown",
      "source": [
        "# Exercise 7.3"
      ],
      "metadata": {
        "id": "-zfX32wlU6hW"
      }
    },
    {
      "cell_type": "code",
      "source": [
        "import numpy as np\n",
        "import torch"
      ],
      "metadata": {
        "id": "ij1Y9ePeU8hG"
      },
      "execution_count": null,
      "outputs": []
    },
    {
      "cell_type": "code",
      "source": [
        "vector = [3.2, 2.1, 0.6, 8.3]\n",
        "x = torch.tensor(vector, requires_grad=True)"
      ],
      "metadata": {
        "id": "2L6V6VHPVbCx"
      },
      "execution_count": null,
      "outputs": []
    },
    {
      "cell_type": "code",
      "source": [
        "# Perform a series of operations on this tensor\n",
        "y = x * 2\n",
        "z = y * y * 3\n",
        "q = z.sum()\n",
        "out = q.sqrt()"
      ],
      "metadata": {
        "id": "NBGBH1heVgKo"
      },
      "execution_count": null,
      "outputs": []
    },
    {
      "cell_type": "code",
      "source": [
        "out"
      ],
      "metadata": {
        "colab": {
          "base_uri": "https://localhost:8080/"
        },
        "id": "MhRG37oSTvsx",
        "outputId": "ab009179-df68-471d-e698-006c13aa5dfb"
      },
      "execution_count": null,
      "outputs": [
        {
          "output_type": "execute_result",
          "data": {
            "text/plain": [
              "tensor(31.7301, grad_fn=<SqrtBackward0>)"
            ]
          },
          "metadata": {},
          "execution_count": 33
        }
      ]
    },
    {
      "cell_type": "code",
      "source": [
        "print(\"Tensor x:\", x)\n",
        "print(\"Tensor y (x * 2):\", y)\n",
        "print(\"Tensor z (y * y * 3):\", z)\n",
        "print(\"Tensor q (sum of z):\", z)\n",
        "print(\"Output (squared root of q):\", out)"
      ],
      "metadata": {
        "colab": {
          "base_uri": "https://localhost:8080/"
        },
        "id": "NSI5pt2qVipR",
        "outputId": "087ddd12-d6b4-45d2-d304-79d376a8e874"
      },
      "execution_count": null,
      "outputs": [
        {
          "output_type": "stream",
          "name": "stdout",
          "text": [
            "Tensor x: tensor([3.2000, 2.1000, 0.6000, 8.3000], requires_grad=True)\n",
            "Tensor y (x * 2): tensor([ 6.4000,  4.2000,  1.2000, 16.6000], grad_fn=<MulBackward0>)\n",
            "Tensor z (y * y * 3): tensor([122.8800,  52.9200,   4.3200, 826.6800], grad_fn=<MulBackward0>)\n",
            "Tensor q (sum of z): tensor([122.8800,  52.9200,   4.3200, 826.6800], grad_fn=<MulBackward0>)\n",
            "Output (squared root of q): tensor(31.7301, grad_fn=<SqrtBackward0>)\n"
          ]
        }
      ]
    },
    {
      "cell_type": "code",
      "source": [
        "# Compute the gradient of out with respect to x\n",
        "out.backward()"
      ],
      "metadata": {
        "id": "GZQ79aP_VlNd"
      },
      "execution_count": null,
      "outputs": []
    },
    {
      "cell_type": "code",
      "source": [
        "# Access and print the gradients\n",
        "print(\"Gradients of x:\", x.grad)\n",
        "print(\"The sum of gradients of x:\", x.grad.sum().numpy().round(2))"
      ],
      "metadata": {
        "colab": {
          "base_uri": "https://localhost:8080/"
        },
        "id": "FJVqzyMEVncQ",
        "outputId": "97afb79b-7b3e-4f44-80fa-400b82263d64"
      },
      "execution_count": null,
      "outputs": [
        {
          "output_type": "stream",
          "name": "stdout",
          "text": [
            "Gradients of x: tensor([1.2102, 0.7942, 0.2269, 3.1390])\n",
            "The sum of gradients of x: 5.37\n"
          ]
        }
      ]
    }
  ]
}