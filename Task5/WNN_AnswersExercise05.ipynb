{
  "nbformat": 4,
  "nbformat_minor": 0,
  "metadata": {
    "colab": {
      "provenance": []
    },
    "kernelspec": {
      "name": "python3",
      "display_name": "Python 3"
    },
    "language_info": {
      "name": "python"
    }
  },
  "cells": [
    {
      "cell_type": "markdown",
      "source": [
        "Working with Neural Network Models\n",
        "\n",
        "© Hans Nieminen, Satakunta University of Applied Sciences"
      ],
      "metadata": {
        "id": "QU5cYTMG7fqu"
      }
    },
    {
      "cell_type": "markdown",
      "source": [
        "# Exercise 5.1"
      ],
      "metadata": {
        "id": "DlUQ_ayt7jck"
      }
    },
    {
      "cell_type": "code",
      "execution_count": null,
      "metadata": {
        "id": "p_jlnAcm7Ugx"
      },
      "outputs": [],
      "source": [
        "import numpy as np\n",
        "from sklearn.preprocessing import OneHotEncoder\n",
        "\n",
        "def cross_entropy(y, y_pred):\n",
        "    \"\"\"Parameter ``y`` contains the target labels as\n",
        "    one-hot encoded values, e.g. np.array([[1,0,0], [0,0,1], [0,1,0]])\n",
        "    Parameter ``y_hat`` contains the predictions as probability spaces,\n",
        "    e.g. np.array([[0.8,0.1,0.1],[0.2,0.1,0.7],[0.3,0.4,0.3]])\"\"\"\n",
        "    loss = 0\n",
        "\n",
        "    # Doing cross entropy Loss\n",
        "    for i in range(len(y_pred)):\n",
        "      loss -= y[i].dot(np.log(y_pred[i]))\n",
        "\n",
        "    return loss/len(y_pred)"
      ]
    },
    {
      "cell_type": "code",
      "source": [
        "y = np.array([[0],\n",
        "              [2],\n",
        "              [2],\n",
        "              [1],\n",
        "              [0]])\n",
        "y_pred = np.array([[0.6, 0.15, 0.25],\n",
        "                   [0.1, 0.2, 0.7],\n",
        "                   [0.2, 0.35, 0.45],\n",
        "                   [0.1, 0.5, 0.4],\n",
        "                   [0.5, 0.2, 0.3]])"
      ],
      "metadata": {
        "id": "i9B_g5qQ7tZo"
      },
      "execution_count": null,
      "outputs": []
    },
    {
      "cell_type": "code",
      "source": [
        "y_ohe = OneHotEncoder().fit_transform(y).toarray()\n",
        "y_ohe"
      ],
      "metadata": {
        "id": "9fozvzdp7w0A",
        "colab": {
          "base_uri": "https://localhost:8080/"
        },
        "outputId": "a9ccc970-8dcc-442c-b450-27c9d8edbfa6"
      },
      "execution_count": null,
      "outputs": [
        {
          "output_type": "execute_result",
          "data": {
            "text/plain": [
              "array([[1., 0., 0.],\n",
              "       [0., 0., 1.],\n",
              "       [0., 0., 1.],\n",
              "       [0., 1., 0.],\n",
              "       [1., 0., 0.]])"
            ]
          },
          "metadata": {},
          "execution_count": 3
        }
      ]
    },
    {
      "cell_type": "code",
      "source": [
        "loss_value = cross_entropy(y_ohe, y_pred)\n",
        "print(loss_value.round(3))"
      ],
      "metadata": {
        "id": "d46Z1Llm70s6",
        "colab": {
          "base_uri": "https://localhost:8080/"
        },
        "outputId": "601da9bd-0ec9-4c55-b27f-6d6fa5624314"
      },
      "execution_count": null,
      "outputs": [
        {
          "output_type": "stream",
          "name": "stdout",
          "text": [
            "0.61\n"
          ]
        }
      ]
    },
    {
      "cell_type": "code",
      "source": [
        "y_pred2 = np.array([[0.8, 0.15, 0.05],\n",
        "                    [0.1, 0.15, 0.75],\n",
        "                    [0.1, 0.15, 0.75],\n",
        "                    [0.1, 0.7, 0.2],\n",
        "                    [0.6, 0.2, 0.2]])"
      ],
      "metadata": {
        "id": "4InNGbV771sQ"
      },
      "execution_count": null,
      "outputs": []
    },
    {
      "cell_type": "code",
      "source": [
        "loss_value2 = cross_entropy(y_ohe, y_pred2)\n",
        "print(loss_value2.round(3))"
      ],
      "metadata": {
        "id": "xw8cLFsZ738A",
        "colab": {
          "base_uri": "https://localhost:8080/"
        },
        "outputId": "eb5549e9-f35d-48f2-bdd8-5363d8dd63d6"
      },
      "execution_count": null,
      "outputs": [
        {
          "output_type": "stream",
          "name": "stdout",
          "text": [
            "0.333\n"
          ]
        }
      ]
    },
    {
      "cell_type": "code",
      "source": [
        "print('decrease of the loss value in percents',\n",
        "      round((loss_value-loss_value2)/loss_value,2)*100)"
      ],
      "metadata": {
        "id": "TzK2Jcw-76wP",
        "colab": {
          "base_uri": "https://localhost:8080/"
        },
        "outputId": "adf6a3b7-7809-4238-c465-8705c4c76252"
      },
      "execution_count": null,
      "outputs": [
        {
          "output_type": "stream",
          "name": "stdout",
          "text": [
            "decrease of the loss value in percents 45.0\n"
          ]
        }
      ]
    },
    {
      "cell_type": "markdown",
      "source": [
        "# Exercise 5.2"
      ],
      "metadata": {
        "id": "YiSn7n3M7-IX"
      }
    },
    {
      "cell_type": "code",
      "source": [
        "import numpy as np"
      ],
      "metadata": {
        "id": "a-R-psU-7_75"
      },
      "execution_count": null,
      "outputs": []
    },
    {
      "cell_type": "code",
      "source": [
        "class ANN(object):\n",
        "    def __init__(self, sizes, hidden_act = \"none\", output_act = \"none\",\n",
        "                 random_state = None):\n",
        "        \"\"\"The list ``sizes`` contains the number of neurons in the\n",
        "        respective layers of the network.\n",
        "        For example, if the list was [2, 3, 1] then it would be a\n",
        "        three-layer network, with the first layer containing 2 neurons,\n",
        "        the second layer 3 neurons, and the third layer 1 neuron.\n",
        "        The biases and weights for the network are initialized randomly,\n",
        "        using a Gaussian distribution with mean 0, and variance 1.\n",
        "        Note that the first layer is assumed to be an input layer.\n",
        "        Parameter ``hidden_act`` contains the activation function name used\n",
        "        in hidden layers.\n",
        "        Parameter ``output_act`` contains the activation function name used\n",
        "        in output layer.\"\"\"\n",
        "        self.num_layers = len(sizes)\n",
        "        self.sizes = sizes\n",
        "        self.input_size = sizes[0]\n",
        "        self.output_size = sizes[-1]\n",
        "\n",
        "        # biases and weights together\n",
        "        self.W = []\n",
        "        rng = np.random.RandomState(random_state)\n",
        "        for i in np.arange(0, self.num_layers - 2):\n",
        "            # initialize weight matrix (the + 1 is for the bias)\n",
        "            w = rng.randn(self.sizes[i] + 1, self.sizes[i + 1] )\n",
        "            self.W.append(w / np.sqrt(self.sizes[i]))\n",
        "        # last layer is different: it doesn't need a bias\n",
        "        w = rng.randn(self.sizes[-2] + 1, self.sizes[-1])\n",
        "        self.W.append(w / np.sqrt(self.sizes[-2]))\n",
        "\n",
        "        # set activation functions for hidden layers\n",
        "        if hidden_act.lower() == \"sigmoid\":\n",
        "            self.hidden_act = self.sigmoid\n",
        "        elif hidden_act.lower() == \"tanh\":\n",
        "            self.hidden_act = self.tanh\n",
        "        elif hidden_act.lower() == \"relu\":\n",
        "            self.hidden_act = self.ReLU\n",
        "        elif hidden_act.lower() == \"none\":\n",
        "            self.hidden_act = self.no_activation\n",
        "        else:\n",
        "            raise ValueError('Parameter hidden_act has to be one of these: \"sigmoid\", \"tanh\", \"ReLU\", \"none\".')\n",
        "\n",
        "        # set activation function for output layer\n",
        "        if output_act.lower() == 'none':\n",
        "            self.output_act = self.no_activation\n",
        "        elif output_act.lower() == \"sigmoid\":\n",
        "            self.output_act = self.sigmoid\n",
        "        elif output_act.lower() == \"softmax\":\n",
        "            self.output_act = self.softmax\n",
        "        else:\n",
        "           raise ValueError('Parameter output_act has to be one of these: \"sigmoid\", \"softmax\", \"none\".')\n",
        "\n",
        "    def predict(self, X, addBias = True):\n",
        "        p = np.atleast_2d(X)\n",
        "\n",
        "        if addBias:\n",
        "            p = np.c_[p, np.ones((p.shape[0]))]\n",
        "\n",
        "        # loop over layers\n",
        "        for layer in np.arange(0, len(self.W)):\n",
        "            if layer == len(self.W)-1:\n",
        "                p = self.output_act(np.dot(p, self.W[layer]))\n",
        "            else:\n",
        "                p = self.hidden_act(np.dot(p, self.W[layer]))\n",
        "                if addBias:\n",
        "                    p = np.c_[p, np.ones((p.shape[0]))]\n",
        "        return p\n",
        "\n",
        "    # Activation functions\n",
        "    def sigmoid(self, x):\n",
        "        return 1/(1+np.exp(-x))\n",
        "\n",
        "    def tanh(self, x):\n",
        "        return np.tanh(x)\n",
        "\n",
        "    def ReLU(self, x):\n",
        "        return (x > 0) * x\n",
        "\n",
        "    def no_activation(self, x):\n",
        "        return x\n",
        "\n",
        "    def softmax(self, x):\n",
        "        exp_scores = np.exp(x - np.max(x, axis=1, keepdims=True))\n",
        "        return exp_scores / np.sum(exp_scores, axis=1, keepdims=True)"
      ],
      "metadata": {
        "id": "Wm7LcROaWv78"
      },
      "execution_count": null,
      "outputs": []
    },
    {
      "cell_type": "code",
      "source": [
        "ann = ANN(sizes=[12,10,8,5],\n",
        "           hidden_act = \"ReLU\",\n",
        "           output_act = \"softmax\",\n",
        "           random_state = 123)"
      ],
      "metadata": {
        "id": "S91cY-lz8rOM"
      },
      "execution_count": null,
      "outputs": []
    },
    {
      "cell_type": "code",
      "source": [
        "ann.W"
      ],
      "metadata": {
        "id": "wdhMsFmH86mG",
        "colab": {
          "base_uri": "https://localhost:8080/"
        },
        "outputId": "fe7f61cb-27d2-4fb6-c9d1-4c39cbd3e80a"
      },
      "execution_count": null,
      "outputs": [
        {
          "output_type": "execute_result",
          "data": {
            "text/plain": [
              "[array([[-0.31339456,  0.28790883,  0.08168886, -0.43482983, -0.16702751,\n",
              "          0.47672866, -0.70052196, -0.12381641,  0.36544432, -0.2502064 ],\n",
              "        [-0.19597755, -0.02734012,  0.4305271 , -0.18443512, -0.12816655,\n",
              "         -0.12538641,  0.63679716,  0.63127077,  0.28984539,  0.11148241],\n",
              "        [ 0.21285997,  0.43033727, -0.27015197,  0.33943261, -0.36196417,\n",
              "         -0.184103  ,  0.26185871, -0.41242459, -0.04043436, -0.24876721],\n",
              "        [-0.07379096, -0.80788309, -0.51139756, -0.20203715,  0.26773534,\n",
              "         -0.0501243 ,  0.00082155,  0.19867278, -0.25390027,  0.08187616],\n",
              "        [-0.23248929, -0.49873522, -0.11284305,  0.16564348,  0.09774224,\n",
              "         -0.00341517,  0.69061637,  0.11919747,  0.28253675,  0.64609633],\n",
              "        [-0.37357025, -0.29987233,  0.50336636, -0.23038087,  0.00856881,\n",
              "          0.30868493,  0.25712479,  0.506592  ,  0.43175527,  0.30870707],\n",
              "        [-0.22306179,  0.22945709,  0.09072251, -0.38285986,  0.40913899,\n",
              "          0.23302912,  0.01313186, -0.06728788, -0.34591974,  0.05759764],\n",
              "        [ 0.13522673, -0.23993378,  0.33549941, -0.31673524, -0.61288628,\n",
              "          0.30014336, -0.11644175, -0.03638161, -0.24177025, -0.46360152],\n",
              "        [ 0.36235582, -0.19885935,  0.47947568,  0.2330498 , -0.09086285,\n",
              "         -0.31347302, -0.21144356, -0.35002528,  0.60249773,  0.04747009],\n",
              "        [ 0.33203574, -0.36585302,  0.05226034,  0.34001945, -0.09670928,\n",
              "          0.29765711, -0.31308779, -0.39360033,  0.10952352, -0.10945881],\n",
              "        [ 0.18534522, -0.57096706,  0.20561309,  0.75006574, -0.00710891,\n",
              "          0.00985598,  0.05183147, -0.53750609,  0.12301794, -0.46344187],\n",
              "        [-0.12346047,  0.35878553, -0.21223885,  0.14469812,  0.29235258,\n",
              "          0.08046555, -0.39575873, -0.09597734,  0.56563333, -0.58458036],\n",
              "        [-0.07961256, -0.15937987,  0.03485676,  0.21599124,  0.46438908,\n",
              "         -0.07800937,  0.23450274,  0.14426255,  0.13693227, -0.16279082]]),\n",
              " array([[-0.31538074, -0.34786418, -0.23920645,  0.10172623,  0.24063333,\n",
              "          0.10228983, -0.17359484,  0.57109789],\n",
              "        [ 0.48030748, -0.11194466, -0.26039187,  0.04117758,  0.40075502,\n",
              "          0.10522953,  0.17599615, -0.06706562],\n",
              "        [ 0.14428553,  0.48842784, -0.07578992,  0.04531788,  0.08026382,\n",
              "          0.08972184, -0.44647847, -0.59351798],\n",
              "        [-0.32244325,  0.05310802,  0.1751447 , -0.16781403,  0.43552706,\n",
              "         -0.04527622,  0.00642448, -0.06133676],\n",
              "        [ 0.04238299,  0.22277426,  0.2104981 , -0.28410628,  0.48182479,\n",
              "         -0.34627777,  0.02505378, -0.08677182],\n",
              "        [-0.33172029, -0.02375522, -0.23426588,  0.02305529,  0.12746697,\n",
              "          0.46546494,  0.09720342, -0.19328642],\n",
              "        [-0.12384106,  0.04426496,  0.02955491,  0.46156265,  0.44124934,\n",
              "         -0.11350551, -0.17349587, -0.80861167],\n",
              "        [-0.17358388, -0.309289  , -0.11220535,  0.12382981,  0.05603313,\n",
              "         -0.00947672,  0.06311341, -0.03988194],\n",
              "        [ 0.06230286, -1.02174931, -0.08515808, -0.03505408, -0.10791643,\n",
              "         -0.06892066,  0.22240619, -0.18913751],\n",
              "        [ 0.69592311,  0.2176586 , -0.00199453, -0.06535236, -0.02736075,\n",
              "         -0.28944551, -0.03010569,  0.08812747],\n",
              "        [ 0.18326715,  0.183314  , -0.08692391, -0.44780453, -0.21158883,\n",
              "          0.5098202 ,  0.28335852,  0.11688398]]),\n",
              " array([[-0.26915816,  0.00128876, -0.44394592, -0.19513915, -0.08669247],\n",
              "        [-0.12785902,  0.33820986, -0.50159536, -0.30597651, -0.48602559],\n",
              "        [-0.43747042,  0.04386038, -0.56584118,  0.26653286, -0.08726255],\n",
              "        [ 0.02432035,  0.1140481 , -0.15350105,  0.3650367 , -0.06871053],\n",
              "        [ 0.21003555, -0.07039686,  0.10283963,  0.09887569,  0.08837772],\n",
              "        [-0.34446984,  0.15410536, -0.11276832,  0.22291118, -0.76102136],\n",
              "        [-0.51799681,  0.12849741,  0.65864436,  0.29523785, -0.24128284],\n",
              "        [-0.59823087,  0.26257923, -0.02849047,  0.20884548,  0.04076425],\n",
              "        [ 0.01048036,  1.04603206, -0.00216727, -0.05630168, -0.04293859]])]"
            ]
          },
          "metadata": {},
          "execution_count": 12
        }
      ]
    },
    {
      "cell_type": "code",
      "source": [
        "X = np.array([0.1, 0.2, 0.3, 0.4, 0.5, 0.6, 0.7, 0.8, 0.1, 0.2, 0.3, 0.4])"
      ],
      "metadata": {
        "id": "GoDSvSXh9FQO"
      },
      "execution_count": null,
      "outputs": []
    },
    {
      "cell_type": "code",
      "source": [
        "y_pred = ann.predict(X)\n",
        "y_pred"
      ],
      "metadata": {
        "id": "txmju4mH9I8m",
        "colab": {
          "base_uri": "https://localhost:8080/"
        },
        "outputId": "f937c234-0f5a-41c3-d4ee-3e92d16939b8"
      },
      "execution_count": null,
      "outputs": [
        {
          "output_type": "execute_result",
          "data": {
            "text/plain": [
              "array([[0.12021312, 0.46228489, 0.15625628, 0.17063779, 0.09060792]])"
            ]
          },
          "metadata": {},
          "execution_count": 14
        }
      ]
    },
    {
      "cell_type": "code",
      "source": [
        "print('Predicted value is', y_pred.argmax(axis=1))"
      ],
      "metadata": {
        "id": "cEUMhghu9LEW",
        "colab": {
          "base_uri": "https://localhost:8080/"
        },
        "outputId": "41a4e96d-83c7-4a8e-8b12-6cae056fea3d"
      },
      "execution_count": null,
      "outputs": [
        {
          "output_type": "stream",
          "name": "stdout",
          "text": [
            "Predicted value is [1]\n"
          ]
        }
      ]
    }
  ]
}