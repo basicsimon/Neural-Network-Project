{
  "nbformat": 4,
  "nbformat_minor": 0,
  "metadata": {
    "colab": {
      "provenance": [],
      "gpuType": "T4"
    },
    "kernelspec": {
      "name": "python3",
      "display_name": "Python 3"
    },
    "language_info": {
      "name": "python"
    },
    "accelerator": "GPU"
  },
  "cells": [
    {
      "cell_type": "markdown",
      "source": [
        "Working with Neural Network Models\n",
        "\n",
        "© Hans Nieminen, Satakunta University of Applied Sciences"
      ],
      "metadata": {
        "id": "p3sQHCnnXmCI"
      }
    },
    {
      "cell_type": "markdown",
      "source": [
        "# Exercise 8.1"
      ],
      "metadata": {
        "id": "24fjE6swXrYm"
      }
    },
    {
      "cell_type": "code",
      "execution_count": null,
      "metadata": {
        "id": "beDf2y2-Xjvl"
      },
      "outputs": [],
      "source": [
        "import torch\n",
        "import torch.nn as nn\n",
        "import torch.optim as optim\n",
        "from torch.utils.data import DataLoader, Dataset\n",
        "from sklearn.datasets import fetch_california_housing\n",
        "from sklearn.preprocessing import StandardScaler\n",
        "from sklearn.model_selection import train_test_split\n",
        "import numpy as np"
      ]
    },
    {
      "cell_type": "code",
      "source": [
        "device = \"cuda\" if torch.cuda.is_available() else \"cpu\"\n",
        "device"
      ],
      "metadata": {
        "colab": {
          "base_uri": "https://localhost:8080/",
          "height": 35
        },
        "id": "jW8kBG6dX7sR",
        "outputId": "ffe252ec-9479-4a4d-8e69-99f57e3a63bc"
      },
      "execution_count": null,
      "outputs": [
        {
          "output_type": "execute_result",
          "data": {
            "text/plain": [
              "'cuda'"
            ],
            "application/vnd.google.colaboratory.intrinsic+json": {
              "type": "string"
            }
          },
          "metadata": {},
          "execution_count": 2
        }
      ]
    },
    {
      "cell_type": "code",
      "source": [
        "# Load the California Housing dataset\n",
        "california = fetch_california_housing()\n",
        "X, y = california.data, california.target"
      ],
      "metadata": {
        "id": "crLEp63vX-jh"
      },
      "execution_count": null,
      "outputs": []
    },
    {
      "cell_type": "code",
      "source": [
        "# Standardize the X data\n",
        "scaler = StandardScaler()\n",
        "X = scaler.fit_transform(X)"
      ],
      "metadata": {
        "id": "kW6BxCk3YA3F"
      },
      "execution_count": null,
      "outputs": []
    },
    {
      "cell_type": "code",
      "source": [
        "# Split the data into training and testing sets\n",
        "X_train, X_test, y_train, y_test = train_test_split(X,\n",
        "                                                    y,\n",
        "                                                    test_size=0.2,\n",
        "                                                    random_state=827)"
      ],
      "metadata": {
        "id": "ZA8xM13SYDK8"
      },
      "execution_count": null,
      "outputs": []
    },
    {
      "cell_type": "code",
      "source": [
        "train_size = len(X_train)\n",
        "train_size"
      ],
      "metadata": {
        "colab": {
          "base_uri": "https://localhost:8080/"
        },
        "id": "Eattm5PHoftF",
        "outputId": "633a6912-e9b4-4dbc-9f82-6deadd6ac879"
      },
      "execution_count": null,
      "outputs": [
        {
          "output_type": "execute_result",
          "data": {
            "text/plain": [
              "16512"
            ]
          },
          "metadata": {},
          "execution_count": 6
        }
      ]
    },
    {
      "cell_type": "code",
      "source": [
        "# Convert to PyTorch tensors\n",
        "X_train = torch.tensor(X_train, dtype=torch.float32)\n",
        "y_train = torch.tensor(y_train, dtype=torch.float32).view(-1, 1)\n",
        "X_test = torch.tensor(X_test, dtype=torch.float32)\n",
        "y_test = torch.tensor(y_test, dtype=torch.float32).view(-1, 1)"
      ],
      "metadata": {
        "id": "5pQE90oLYFa3"
      },
      "execution_count": null,
      "outputs": []
    },
    {
      "cell_type": "code",
      "source": [
        "X_train[:3]"
      ],
      "metadata": {
        "colab": {
          "base_uri": "https://localhost:8080/"
        },
        "id": "4wZy-T_9vFEu",
        "outputId": "c5068524-2e48-46ed-f176-ad44ccde6eb3"
      },
      "execution_count": null,
      "outputs": [
        {
          "output_type": "execute_result",
          "data": {
            "text/plain": [
              "tensor([[-6.7543e-01,  1.8562e+00, -8.6558e-01, -1.6128e-01, -7.0333e-01,\n",
              "         -5.0463e-02,  1.0151e+00, -1.4177e+00],\n",
              "        [ 8.6717e-01, -2.8919e-01,  5.9201e-01, -2.0400e-01,  2.5390e-01,\n",
              "          2.9020e-02, -6.7974e-01,  3.1430e-01],\n",
              "        [ 1.8051e-01, -2.0973e-01, -2.9593e-01,  7.4929e-02,  1.3451e-03,\n",
              "         -9.8246e-02,  7.9505e-01, -1.1931e+00]])"
            ]
          },
          "metadata": {},
          "execution_count": 8
        }
      ]
    },
    {
      "cell_type": "code",
      "source": [
        "y_train[:3]"
      ],
      "metadata": {
        "colab": {
          "base_uri": "https://localhost:8080/"
        },
        "id": "aOkNrxSivIb7",
        "outputId": "15e3ab11-bbfe-46e8-c888-2bc45dfd7dec"
      },
      "execution_count": null,
      "outputs": [
        {
          "output_type": "execute_result",
          "data": {
            "text/plain": [
              "tensor([[5.0000],\n",
              "        [2.4210],\n",
              "        [2.8830]])"
            ]
          },
          "metadata": {},
          "execution_count": 9
        }
      ]
    },
    {
      "cell_type": "code",
      "source": [
        "class CustomDataset(Dataset):\n",
        "    def __init__(self, X, y, device='cpu'):\n",
        "      self.X = X.to(device)\n",
        "      self.y = y.to(device)\n",
        "\n",
        "    def __len__(self):\n",
        "      return len(self.y)\n",
        "\n",
        "    def __getitem__(self, idx):\n",
        "      return self.X[idx], self.y[idx]"
      ],
      "metadata": {
        "id": "08tMPJHaYHnd"
      },
      "execution_count": null,
      "outputs": []
    },
    {
      "cell_type": "code",
      "source": [
        "# Create a custom dataset\n",
        "train_dataset = CustomDataset(X_train, y_train, device)"
      ],
      "metadata": {
        "id": "7W56Okx5YJ5N"
      },
      "execution_count": null,
      "outputs": []
    },
    {
      "cell_type": "code",
      "source": [
        "# Create a dataloader\n",
        "train_loader = DataLoader(train_dataset,\n",
        "                          batch_size=64,\n",
        "                          shuffle=False)  # = no shuffling"
      ],
      "metadata": {
        "id": "9VSCXhkYYMDQ"
      },
      "execution_count": null,
      "outputs": []
    },
    {
      "cell_type": "code",
      "source": [
        "# Define the neural network\n",
        "class NeuralNetwork(nn.Module):\n",
        "    def __init__(self):\n",
        "        super(NeuralNetwork, self).__init__()\n",
        "        self.layer1 = nn.Linear(8,16)\n",
        "        nn.init.kaiming_normal_(self.layer1.weight,\n",
        "                                nonlinearity='relu')\n",
        "        nn.init.zeros_(self.layer1.bias)\n",
        "        self.layer1_act = nn.ReLU()\n",
        "        self.layer2 = nn.Linear(16, 8)\n",
        "        nn.init.kaiming_normal_(self.layer2.weight,\n",
        "                                nonlinearity='relu')\n",
        "        nn.init.zeros_(self.layer2.bias)\n",
        "        self.layer2_act = nn.ReLU()\n",
        "        self.layer3 = nn.Linear(8, 1)\n",
        "\n",
        "    def forward(self, x):\n",
        "        x = self.layer1_act(self.layer1(x))\n",
        "        x = self.layer2_act(self.layer2(x))\n",
        "        x = self.layer3(x)\n",
        "        return x"
      ],
      "metadata": {
        "id": "jGglMMP2YOfV"
      },
      "execution_count": null,
      "outputs": []
    },
    {
      "cell_type": "code",
      "source": [
        "# Create the model\n",
        "torch.manual_seed(41)\n",
        "model = NeuralNetwork().to(device)"
      ],
      "metadata": {
        "id": "ZbFo5SN0YQ6j"
      },
      "execution_count": null,
      "outputs": []
    },
    {
      "cell_type": "code",
      "source": [
        "for name, parameter in model.named_parameters():\n",
        "  print(name)\n",
        "  print(parameter)\n",
        "  print()"
      ],
      "metadata": {
        "colab": {
          "base_uri": "https://localhost:8080/"
        },
        "id": "YtbMI2knYTJv",
        "outputId": "edcdef79-48ae-4013-f9b5-b0f66a678215"
      },
      "execution_count": null,
      "outputs": [
        {
          "output_type": "stream",
          "name": "stdout",
          "text": [
            "layer1.weight\n",
            "Parameter containing:\n",
            "tensor([[ 0.0508, -1.3878,  0.1322,  0.0497, -0.0540,  0.9404, -0.0139,  0.4344],\n",
            "        [ 0.8615,  0.8887, -0.0219,  0.1717, -0.8935, -1.0431, -0.2809,  0.6737],\n",
            "        [-0.4215,  0.1566,  0.1858, -0.1949, -0.6550, -0.2162, -0.3111,  0.7438],\n",
            "        [ 0.5936, -0.0174,  0.3227,  0.2821,  0.6985, -0.6584,  1.3765,  0.5606],\n",
            "        [ 0.3991,  0.0611,  0.8148,  0.6636,  0.4213, -0.0461,  0.1776, -0.2930],\n",
            "        [-0.8136, -1.1033, -0.3882,  0.5658,  0.1748, -0.4435, -0.0138,  0.5217],\n",
            "        [ 0.4322,  0.2795, -0.4324,  0.4571, -0.1680,  0.3608, -0.8031,  0.1989],\n",
            "        [ 0.5094,  0.6617,  0.7274, -0.4670, -0.0923, -0.3678, -0.2564, -0.5330],\n",
            "        [ 0.5693, -0.9604,  0.5437,  0.1676, -0.2021,  0.1903, -0.0110, -0.4085],\n",
            "        [ 0.2700, -0.0329, -1.0266,  0.1208, -0.1724,  0.3901, -0.5774,  0.2017],\n",
            "        [ 0.7566, -0.8163, -0.0906, -0.7853,  0.1471, -0.2997,  0.6958, -0.1618],\n",
            "        [ 0.6385, -0.2078,  0.2607,  0.8029,  0.0780, -0.4595, -0.4938, -0.7452],\n",
            "        [-0.5357, -0.1326, -0.3369,  0.2645, -0.4885, -0.2458,  0.1134,  0.1088],\n",
            "        [ 0.5297, -0.2947, -0.0517,  0.5738,  0.5694,  0.2129,  0.0390, -0.5569],\n",
            "        [-0.2592,  0.0818, -0.4856,  0.0329, -0.3528,  0.2655,  0.0216, -0.0549],\n",
            "        [-0.9798,  0.2169,  0.6636, -0.3511,  0.5295, -0.0853, -0.3124, -0.2095]],\n",
            "       device='cuda:0', requires_grad=True)\n",
            "\n",
            "layer1.bias\n",
            "Parameter containing:\n",
            "tensor([0., 0., 0., 0., 0., 0., 0., 0., 0., 0., 0., 0., 0., 0., 0., 0.],\n",
            "       device='cuda:0', requires_grad=True)\n",
            "\n",
            "layer2.weight\n",
            "Parameter containing:\n",
            "tensor([[-0.1099, -0.3488,  0.1292,  0.1980,  0.8294,  0.4234,  0.5220,  0.2515,\n",
            "          0.3012,  0.4345,  0.2118,  0.0677, -0.2044,  0.2386,  0.9098,  0.4305],\n",
            "        [-0.0259,  0.4457, -0.3290, -0.1232, -0.3427, -0.4314, -0.0125, -0.2145,\n",
            "          0.1645,  0.1710,  0.4401,  0.0302, -0.4942,  0.0272,  0.2192, -0.5488],\n",
            "        [ 1.1931, -0.0255, -0.2775, -0.2755, -0.2964, -0.3505,  0.2512, -0.4608,\n",
            "          0.1988, -0.1320,  0.0098, -0.2032, -0.0164,  0.0121,  0.0739,  0.3952],\n",
            "        [-0.0813, -0.5925,  0.1965,  0.0520,  0.2417,  0.4203, -0.5437,  0.5294,\n",
            "          0.3087, -0.7879, -0.3780,  0.2101, -0.0061, -0.3651, -0.1545, -0.1403],\n",
            "        [ 0.4075,  0.4661,  0.0201, -0.3575, -0.1660,  0.3100,  0.4557, -0.2763,\n",
            "         -0.3035, -0.1543, -0.2884,  0.5436,  0.0888, -0.4976, -0.0940, -0.9597],\n",
            "        [ 0.7139,  0.1937,  0.6197, -0.0014,  0.0874,  0.5968, -0.9692, -0.3895,\n",
            "         -0.6524,  0.2184,  0.1468, -0.0693,  0.1990,  0.0977, -0.1382, -0.5191],\n",
            "        [-0.1813,  0.0436,  0.0460, -0.3837, -0.4393,  0.1544, -0.6084, -0.4681,\n",
            "          0.2623, -0.4867, -0.0211, -0.0017, -0.3234,  0.1477, -0.0717, -0.1659],\n",
            "        [ 0.2541, -0.0963,  0.1186,  0.2780, -0.7688, -0.1883, -0.0721,  0.1904,\n",
            "          0.2602,  0.4862, -0.3964, -0.3219, -0.1262,  0.2662,  0.1527,  0.2739]],\n",
            "       device='cuda:0', requires_grad=True)\n",
            "\n",
            "layer2.bias\n",
            "Parameter containing:\n",
            "tensor([0., 0., 0., 0., 0., 0., 0., 0.], device='cuda:0', requires_grad=True)\n",
            "\n",
            "layer3.weight\n",
            "Parameter containing:\n",
            "tensor([[ 0.1855,  0.1796, -0.0217, -0.2853,  0.0824, -0.2640, -0.0168, -0.0083]],\n",
            "       device='cuda:0', requires_grad=True)\n",
            "\n",
            "layer3.bias\n",
            "Parameter containing:\n",
            "tensor([0.0420], device='cuda:0', requires_grad=True)\n",
            "\n"
          ]
        }
      ]
    },
    {
      "cell_type": "markdown",
      "source": [
        "Question 1: What is the maximum value for the weights in the second hidden layer? Give the answer rounded to two decimals."
      ],
      "metadata": {
        "id": "PwWOF1EjSv2_"
      }
    },
    {
      "cell_type": "code",
      "source": [
        "l2_max_weight = model.layer2.weight.cpu().detach().numpy().max()"
      ],
      "metadata": {
        "id": "D7nKxvbAYzwT"
      },
      "execution_count": null,
      "outputs": []
    },
    {
      "cell_type": "code",
      "source": [
        "l2_max_weight"
      ],
      "metadata": {
        "colab": {
          "base_uri": "https://localhost:8080/"
        },
        "id": "eExD0IebY3hJ",
        "outputId": "b269391c-ff46-439d-907c-fb23e997741d"
      },
      "execution_count": null,
      "outputs": [
        {
          "output_type": "execute_result",
          "data": {
            "text/plain": [
              "1.1930813"
            ]
          },
          "metadata": {},
          "execution_count": 17
        }
      ]
    },
    {
      "cell_type": "code",
      "source": [
        "print(f'The second hidden layer has the weight maximum of {l2_max_weight:.2f}')"
      ],
      "metadata": {
        "colab": {
          "base_uri": "https://localhost:8080/"
        },
        "id": "1pWWAwcjYV1D",
        "outputId": "86d5c6ac-cc31-4a5a-ebf8-37be163b13df"
      },
      "execution_count": null,
      "outputs": [
        {
          "output_type": "stream",
          "name": "stdout",
          "text": [
            "The second hidden layer has the weight maximum of 1.19\n"
          ]
        }
      ]
    },
    {
      "cell_type": "markdown",
      "source": [
        "Question 2: What is the Loss value after the 10th epoch? Give the answer rounded to three decimals."
      ],
      "metadata": {
        "id": "93DTswCAS-3N"
      }
    },
    {
      "cell_type": "code",
      "source": [
        "# Set the loss and optimizer\n",
        "criterion = nn.MSELoss()\n",
        "optimizer = optim.SGD(model.parameters(),\n",
        "                      lr=0.015,\n",
        "                      momentum=0.9)"
      ],
      "metadata": {
        "id": "baSApRLWaUt3"
      },
      "execution_count": null,
      "outputs": []
    },
    {
      "cell_type": "code",
      "source": [
        "# Train the model\n",
        "num_epochs = 10\n",
        "model.train()\n",
        "for epoch in range(num_epochs):\n",
        "    running_loss = 0.0\n",
        "    for batch_X, batch_y in train_loader:\n",
        "        # Zero the parameter gradients\n",
        "        optimizer.zero_grad()\n",
        "\n",
        "        # Forward pass\n",
        "        outputs = model(batch_X)\n",
        "        loss = criterion(outputs, batch_y)\n",
        "\n",
        "        # Backward pass and optimize\n",
        "        loss.backward()\n",
        "        optimizer.step()\n",
        "\n",
        "        # The loss.item() gives the mean loss for a batch\n",
        "        # So we multiply it with batch size to get total loss of all samples in a batch\n",
        "        running_loss += loss.item() * batch_X.size(0)\n",
        "\n",
        "    #epoch_loss = running_loss / len(train_loader.dataset)\n",
        "    epoch_loss = running_loss / train_size\n",
        "    print(f'Epoch {epoch+1}/{num_epochs}, Loss: {epoch_loss:.4f}')"
      ],
      "metadata": {
        "colab": {
          "base_uri": "https://localhost:8080/"
        },
        "id": "b_Tw72sdaXp7",
        "outputId": "5ec27bdd-16fe-449b-8df1-b771b90544a9"
      },
      "execution_count": null,
      "outputs": [
        {
          "output_type": "stream",
          "name": "stdout",
          "text": [
            "Epoch 1/10, Loss: 2.2895\n",
            "Epoch 2/10, Loss: 0.4662\n",
            "Epoch 3/10, Loss: 7.2828\n",
            "Epoch 4/10, Loss: 1.3288\n",
            "Epoch 5/10, Loss: 1.3288\n",
            "Epoch 6/10, Loss: 1.3299\n",
            "Epoch 7/10, Loss: 1.3292\n",
            "Epoch 8/10, Loss: 1.3292\n",
            "Epoch 9/10, Loss: 1.3292\n",
            "Epoch 10/10, Loss: 1.3292\n"
          ]
        }
      ]
    },
    {
      "cell_type": "markdown",
      "source": [
        "Question 3: What is the value of the test loss? Give the answer rounded to three decimals."
      ],
      "metadata": {
        "id": "NtmKL0NETLm9"
      }
    },
    {
      "cell_type": "code",
      "source": [
        "# Evaluate the model on the test set\n",
        "model.eval()\n",
        "with torch.inference_mode():\n",
        "#with torch.no_grad():\n",
        "    predictions = model(X_test.to(device))\n",
        "    test_loss = criterion(predictions, y_test.to(device))\n",
        "    print(f'Test Loss: {test_loss.item():.3f}')"
      ],
      "metadata": {
        "colab": {
          "base_uri": "https://localhost:8080/"
        },
        "id": "l6PO7WOmaeTm",
        "outputId": "117fa62c-e6a5-4f12-aa8d-97bab22eca9c"
      },
      "execution_count": null,
      "outputs": [
        {
          "output_type": "stream",
          "name": "stdout",
          "text": [
            "Test Loss: 1.351\n"
          ]
        }
      ]
    },
    {
      "cell_type": "markdown",
      "source": [
        "Solution with no initialization of biases."
      ],
      "metadata": {
        "id": "DgOTtvcqShy-"
      }
    },
    {
      "cell_type": "code",
      "source": [
        "# Define the neural network (no intialization of biases)\n",
        "class NeuralNetworkV2(nn.Module):\n",
        "    def __init__(self):\n",
        "        super(NeuralNetworkV2, self).__init__()\n",
        "        self.layer1 = nn.Linear(8,16)\n",
        "        nn.init.kaiming_normal_(self.layer1.weight,\n",
        "                                nonlinearity='relu')\n",
        "        self.layer1_act = nn.ReLU()\n",
        "        self.layer2 = nn.Linear(16, 8)\n",
        "        nn.init.kaiming_normal_(self.layer2.weight,\n",
        "                                nonlinearity='relu')\n",
        "        self.layer2_act = nn.ReLU()\n",
        "        self.layer3 = nn.Linear(8, 1)\n",
        "\n",
        "    def forward(self, x):\n",
        "        x = self.layer1_act(self.layer1(x))\n",
        "        x = self.layer2_act(self.layer2(x))\n",
        "        x = self.layer3(x)\n",
        "        return x"
      ],
      "metadata": {
        "id": "ululw6yLoVcE"
      },
      "execution_count": null,
      "outputs": []
    },
    {
      "cell_type": "code",
      "source": [
        "# Create the model\n",
        "torch.manual_seed(41)\n",
        "model2 = NeuralNetworkV2().to(device)"
      ],
      "metadata": {
        "id": "nKKu8JU4qmgW"
      },
      "execution_count": null,
      "outputs": []
    },
    {
      "cell_type": "code",
      "source": [
        "# Set the loss and optimizer\n",
        "criterion2 = nn.MSELoss()\n",
        "optimizer2 = optim.SGD(model2.parameters(),\n",
        "                      lr=0.015,\n",
        "                      momentum=0.9)"
      ],
      "metadata": {
        "id": "4SydDxIrq_uA"
      },
      "execution_count": null,
      "outputs": []
    },
    {
      "cell_type": "code",
      "source": [
        "# Train the model\n",
        "num_epochs = 10\n",
        "for epoch in range(num_epochs):\n",
        "    model2.train()\n",
        "    running_loss = 0.0\n",
        "    for batch_X, batch_y in train_loader:\n",
        "        # Zero the parameter gradients\n",
        "        optimizer2.zero_grad()\n",
        "\n",
        "        # Forward pass\n",
        "        outputs = model2(batch_X)\n",
        "        loss = criterion2(outputs, batch_y)\n",
        "\n",
        "        # Backward pass and optimize\n",
        "        loss.backward()\n",
        "        optimizer2.step()\n",
        "\n",
        "        # The loss.item() gives the mean loss for a batch\n",
        "        # So we multiply it with batch size to get total loss of all samples in a batch\n",
        "        running_loss += loss.item() * batch_X.size(0)\n",
        "\n",
        "    #epoch_loss = running_loss / len(train_loader.dataset)\n",
        "    epoch_loss = running_loss / train_size\n",
        "    print(f'Epoch {epoch+1}/{num_epochs}, Loss: {epoch_loss:.4f}')"
      ],
      "metadata": {
        "colab": {
          "base_uri": "https://localhost:8080/"
        },
        "id": "wWSaYl7bqyE7",
        "outputId": "e641c891-aa63-4268-93a7-5becf9933aab"
      },
      "execution_count": null,
      "outputs": [
        {
          "output_type": "stream",
          "name": "stdout",
          "text": [
            "Epoch 1/10, Loss: 0.9138\n",
            "Epoch 2/10, Loss: 0.4199\n",
            "Epoch 3/10, Loss: 0.3932\n",
            "Epoch 4/10, Loss: 0.4008\n",
            "Epoch 5/10, Loss: 0.3961\n",
            "Epoch 6/10, Loss: 0.3694\n",
            "Epoch 7/10, Loss: 0.3619\n",
            "Epoch 8/10, Loss: 0.3575\n",
            "Epoch 9/10, Loss: 0.3529\n",
            "Epoch 10/10, Loss: 0.3492\n"
          ]
        }
      ]
    },
    {
      "cell_type": "code",
      "source": [
        "# Evaluate the model on the test set\n",
        "model2.eval()\n",
        "with torch.inference_mode():\n",
        "#with torch.no_grad():\n",
        "    predictions = model2(X_test.to(device))\n",
        "    test_loss = criterion2(predictions, y_test.to(device))\n",
        "    print(f'Test Loss: {test_loss.item():.3f}')"
      ],
      "metadata": {
        "colab": {
          "base_uri": "https://localhost:8080/"
        },
        "id": "5bAH17y6rVZ7",
        "outputId": "338f6a74-9eab-4a3e-bc22-23d47889fffe"
      },
      "execution_count": null,
      "outputs": [
        {
          "output_type": "stream",
          "name": "stdout",
          "text": [
            "Test Loss: 0.390\n"
          ]
        }
      ]
    }
  ]
}